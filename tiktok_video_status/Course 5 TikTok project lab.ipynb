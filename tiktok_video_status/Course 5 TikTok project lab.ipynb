{
 "cells": [
  {
   "cell_type": "markdown",
   "metadata": {
    "id": "DtNBZFHO3M7n"
   },
   "source": [
    "# **TikTok Project**\n",
    "**Course 5 - Regression Analysis: Simplify complex data relationships**"
   ]
  },
  {
   "cell_type": "markdown",
   "metadata": {
    "id": "Gd59VyT2NhgK"
   },
   "source": [
    "You are a data professional at TikTok. The data team is working towards building a machine learning model that can be used to determine whether a video contains a claim or whether it offers an opinion. With a successful prediction model, TikTok can reduce the backlog of user reports and prioritize them more efficiently.\n",
    "\n",
    "The team is getting closer to completing the project, having completed an initial plan of action, initial Python coding work, EDA, and hypothesis testing.\n",
    "\n",
    "Next task: explore how to predict verified status to help them understand how video characteristics relate to verified users. Therefore, you have been asked to conduct a logistic regression using verified status as the outcome variable. The results may be used to inform the final model related to predicting whether a video is a claim vs an opinion."
   ]
  },
  {
   "cell_type": "markdown",
   "metadata": {
    "id": "rgSbVJvomcVa"
   },
   "source": [
    "# **Course 5 End-of-course project: Regression modeling**\n",
    "\n",
    "\n",
    "In this activity, you will build a logistic regression model in Python. As you have learned, logistic regression helps you estimate the probability of an outcome. For data science professionals, this is a useful skill because it allows you to consider more than one variable against the variable you're measuring against. This opens the door for much more thorough and flexible analysis to be completed.\n",
    "<br/>\n",
    "\n",
    "**The purpose** of this project is to demostrate knowledge of EDA and regression models.\n",
    "\n",
    "**The goal** is to build a logistic regression model and evaluate the model.\n",
    "<br/>\n",
    "*This activity has three parts:*\n",
    "\n",
    "**Part 1:** EDA & Checking Model Assumptions\n",
    "* What are some purposes of EDA before constructing a logistic regression model?\n",
    "\n",
    "**Part 2:** Model Building and Evaluation\n",
    "* What resources do you find yourself using as you complete this stage?\n",
    "\n",
    "**Part 3:** Interpreting Model Results\n",
    "\n",
    "* What key insights emerged from your model(s)?\n",
    "\n",
    "* What business recommendations do you propose based on the models built?"
   ]
  },
  {
   "cell_type": "markdown",
   "metadata": {
    "id": "7KFOyc3JPSiN"
   },
   "source": [
    "# **Build a regression model**"
   ]
  },
  {
   "cell_type": "markdown",
   "metadata": {
    "id": "3UCHQclzQDUL"
   },
   "source": [
    "<img src=\"images/Pace.png\" width=\"100\" height=\"100\" align=left>\n",
    "\n",
    "# **PACE stages**"
   ]
  },
  {
   "cell_type": "markdown",
   "metadata": {
    "id": "VJfAWkcilRVx"
   },
   "source": [
    "Throughout these project notebooks, you'll see references to the problem-solving framework PACE. The following notebook components are labeled with the respective PACE stage: Plan, Analyze, Construct, and Execute."
   ]
  },
  {
   "cell_type": "markdown",
   "metadata": {
    "id": "F5O5cx_qQJmX"
   },
   "source": [
    "<img src=\"images/Plan.png\" width=\"100\" height=\"100\" align=left>\n",
    "\n",
    "\n",
    "## **PACE: Plan**\n",
    "Consider the questions in your PACE Strategy Document to reflect on the Plan stage."
   ]
  },
  {
   "cell_type": "markdown",
   "metadata": {
    "id": "D8qYlvkLQsf2"
   },
   "source": [
    "### **Task 1. Imports and loading**\n",
    "Import the data and packages that you've learned are needed for building regression models."
   ]
  },
  {
   "cell_type": "code",
   "execution_count": 10,
   "metadata": {},
   "outputs": [],
   "source": [
    "# Import packages for data manipulation\n",
    "import pandas as pd\n",
    "import numpy as np\n",
    "\n",
    "# Import packages for data visualization\n",
    "import matplotlib.pyplot as plt\n",
    "import seaborn as sns\n",
    "\n",
    "# Import packages for data preprocessing\n",
    "from sklearn.utils import resample\n",
    "from sklearn.preprocessing import OneHotEncoder\n",
    "\n",
    "# Import packages for data modeling\n",
    "from sklearn.model_selection import train_test_split\n",
    "from sklearn.linear_model import LogisticRegression\n",
    "import sklearn.metrics as metrics"
   ]
  },
  {
   "cell_type": "markdown",
   "metadata": {
    "id": "LjljvyG32kqe"
   },
   "source": [
    "Load the TikTok dataset."
   ]
  },
  {
   "cell_type": "code",
   "execution_count": 11,
   "metadata": {
    "id": "C9ODhaOppqlw"
   },
   "outputs": [],
   "source": [
    "# Load dataset into dataframe\n",
    "data = pd.read_csv(\"tiktok_dataset.csv\")"
   ]
  },
  {
   "cell_type": "markdown",
   "metadata": {
    "id": "OnrvCSfHUWPv"
   },
   "source": [
    "<img src=\"images/Analyze.png\" width=\"100\" height=\"100\" align=left>\n",
    "\n",
    "## **PACE: Analyze**\n",
    "\n",
    "Consider the questions in your PACE Strategy Document to reflect on the Analyze stage.\n",
    "\n",
    "In this stage, consider the following question where applicable to complete your code response:\n",
    "\n",
    "* What are some purposes of EDA before constructing a logistic regression model?\n"
   ]
  },
  {
   "cell_type": "markdown",
   "metadata": {
    "id": "FZA0zpCSpYIL"
   },
   "source": [
    "    Some purpose of EDA:\n",
    "    - get familiar with dataset (types, size, labels)\n",
    "    - Understanding which variables are present in the data\n",
    "    - Reviewing the distribution of features, such as minimum, mean, and maximum values\n",
    "    - check requirement for any initial data transfornation or reshaping and make such transformation\n",
    "    - check for missing data and deal with it\n",
    "    - check for outliers and deal with it\n",
    "    - Plotting the relationship between the independent and dependent variables to visualize which feature is the best choice for X"
   ]
  },
  {
   "cell_type": "markdown",
   "metadata": {
    "id": "rIcDG2e66wt9"
   },
   "source": [
    "### **Task 2a. Explore data with EDA**\n",
    "\n",
    "Analyze the data and check for and handle missing values and duplicates."
   ]
  },
  {
   "cell_type": "markdown",
   "metadata": {
    "id": "JBHl90JIRuXk"
   },
   "source": [
    "Inspect the first five rows of the dataframe."
   ]
  },
  {
   "cell_type": "code",
   "execution_count": 3,
   "metadata": {
    "id": "2rfk95MLp4a_"
   },
   "outputs": [
    {
     "data": {
      "text/html": [
       "<div>\n",
       "<style scoped>\n",
       "    .dataframe tbody tr th:only-of-type {\n",
       "        vertical-align: middle;\n",
       "    }\n",
       "\n",
       "    .dataframe tbody tr th {\n",
       "        vertical-align: top;\n",
       "    }\n",
       "\n",
       "    .dataframe thead th {\n",
       "        text-align: right;\n",
       "    }\n",
       "</style>\n",
       "<table border=\"1\" class=\"dataframe\">\n",
       "  <thead>\n",
       "    <tr style=\"text-align: right;\">\n",
       "      <th></th>\n",
       "      <th>#</th>\n",
       "      <th>claim_status</th>\n",
       "      <th>video_id</th>\n",
       "      <th>video_duration_sec</th>\n",
       "      <th>video_transcription_text</th>\n",
       "      <th>verified_status</th>\n",
       "      <th>author_ban_status</th>\n",
       "      <th>video_view_count</th>\n",
       "      <th>video_like_count</th>\n",
       "      <th>video_share_count</th>\n",
       "      <th>video_download_count</th>\n",
       "      <th>video_comment_count</th>\n",
       "    </tr>\n",
       "  </thead>\n",
       "  <tbody>\n",
       "    <tr>\n",
       "      <th>0</th>\n",
       "      <td>1</td>\n",
       "      <td>claim</td>\n",
       "      <td>7017666017</td>\n",
       "      <td>59</td>\n",
       "      <td>someone shared with me that drone deliveries a...</td>\n",
       "      <td>not verified</td>\n",
       "      <td>under review</td>\n",
       "      <td>343296.0</td>\n",
       "      <td>19425.0</td>\n",
       "      <td>241.0</td>\n",
       "      <td>1.0</td>\n",
       "      <td>0.0</td>\n",
       "    </tr>\n",
       "    <tr>\n",
       "      <th>1</th>\n",
       "      <td>2</td>\n",
       "      <td>claim</td>\n",
       "      <td>4014381136</td>\n",
       "      <td>32</td>\n",
       "      <td>someone shared with me that there are more mic...</td>\n",
       "      <td>not verified</td>\n",
       "      <td>active</td>\n",
       "      <td>140877.0</td>\n",
       "      <td>77355.0</td>\n",
       "      <td>19034.0</td>\n",
       "      <td>1161.0</td>\n",
       "      <td>684.0</td>\n",
       "    </tr>\n",
       "    <tr>\n",
       "      <th>2</th>\n",
       "      <td>3</td>\n",
       "      <td>claim</td>\n",
       "      <td>9859838091</td>\n",
       "      <td>31</td>\n",
       "      <td>someone shared with me that american industria...</td>\n",
       "      <td>not verified</td>\n",
       "      <td>active</td>\n",
       "      <td>902185.0</td>\n",
       "      <td>97690.0</td>\n",
       "      <td>2858.0</td>\n",
       "      <td>833.0</td>\n",
       "      <td>329.0</td>\n",
       "    </tr>\n",
       "    <tr>\n",
       "      <th>3</th>\n",
       "      <td>4</td>\n",
       "      <td>claim</td>\n",
       "      <td>1866847991</td>\n",
       "      <td>25</td>\n",
       "      <td>someone shared with me that the metro of st. p...</td>\n",
       "      <td>not verified</td>\n",
       "      <td>active</td>\n",
       "      <td>437506.0</td>\n",
       "      <td>239954.0</td>\n",
       "      <td>34812.0</td>\n",
       "      <td>1234.0</td>\n",
       "      <td>584.0</td>\n",
       "    </tr>\n",
       "    <tr>\n",
       "      <th>4</th>\n",
       "      <td>5</td>\n",
       "      <td>claim</td>\n",
       "      <td>7105231098</td>\n",
       "      <td>19</td>\n",
       "      <td>someone shared with me that the number of busi...</td>\n",
       "      <td>not verified</td>\n",
       "      <td>active</td>\n",
       "      <td>56167.0</td>\n",
       "      <td>34987.0</td>\n",
       "      <td>4110.0</td>\n",
       "      <td>547.0</td>\n",
       "      <td>152.0</td>\n",
       "    </tr>\n",
       "  </tbody>\n",
       "</table>\n",
       "</div>"
      ],
      "text/plain": [
       "   # claim_status    video_id  video_duration_sec  \\\n",
       "0  1        claim  7017666017                  59   \n",
       "1  2        claim  4014381136                  32   \n",
       "2  3        claim  9859838091                  31   \n",
       "3  4        claim  1866847991                  25   \n",
       "4  5        claim  7105231098                  19   \n",
       "\n",
       "                            video_transcription_text verified_status  \\\n",
       "0  someone shared with me that drone deliveries a...    not verified   \n",
       "1  someone shared with me that there are more mic...    not verified   \n",
       "2  someone shared with me that american industria...    not verified   \n",
       "3  someone shared with me that the metro of st. p...    not verified   \n",
       "4  someone shared with me that the number of busi...    not verified   \n",
       "\n",
       "  author_ban_status  video_view_count  video_like_count  video_share_count  \\\n",
       "0      under review          343296.0           19425.0              241.0   \n",
       "1            active          140877.0           77355.0            19034.0   \n",
       "2            active          902185.0           97690.0             2858.0   \n",
       "3            active          437506.0          239954.0            34812.0   \n",
       "4            active           56167.0           34987.0             4110.0   \n",
       "\n",
       "   video_download_count  video_comment_count  \n",
       "0                   1.0                  0.0  \n",
       "1                1161.0                684.0  \n",
       "2                 833.0                329.0  \n",
       "3                1234.0                584.0  \n",
       "4                 547.0                152.0  "
      ]
     },
     "execution_count": 3,
     "metadata": {},
     "output_type": "execute_result"
    }
   ],
   "source": [
    "# Display first few rows\n",
    "data.head()"
   ]
  },
  {
   "cell_type": "markdown",
   "metadata": {
    "id": "66KOxKCx977b"
   },
   "source": [
    "Get the number of rows and columns in the dataset."
   ]
  },
  {
   "cell_type": "code",
   "execution_count": 4,
   "metadata": {
    "id": "kYwW-G1WqX3R"
   },
   "outputs": [
    {
     "data": {
      "text/plain": [
       "(19382, 12)"
      ]
     },
     "execution_count": 4,
     "metadata": {},
     "output_type": "execute_result"
    }
   ],
   "source": [
    "# Get number of rows and columns\n",
    "data.shape"
   ]
  },
  {
   "cell_type": "markdown",
   "metadata": {
    "id": "aP-NbEGdEio8"
   },
   "source": [
    "Get the data types of the columns."
   ]
  },
  {
   "cell_type": "code",
   "execution_count": 5,
   "metadata": {
    "id": "rbpDgrXfEoVj"
   },
   "outputs": [
    {
     "data": {
      "text/plain": [
       "#                             int64\n",
       "claim_status                 object\n",
       "video_id                      int64\n",
       "video_duration_sec            int64\n",
       "video_transcription_text     object\n",
       "verified_status              object\n",
       "author_ban_status            object\n",
       "video_view_count            float64\n",
       "video_like_count            float64\n",
       "video_share_count           float64\n",
       "video_download_count        float64\n",
       "video_comment_count         float64\n",
       "dtype: object"
      ]
     },
     "execution_count": 5,
     "metadata": {},
     "output_type": "execute_result"
    }
   ],
   "source": [
    "# Get data types of columns\n",
    "data.dtypes"
   ]
  },
  {
   "cell_type": "markdown",
   "metadata": {
    "id": "URuRVjUZ_Axg"
   },
   "source": [
    "Get basic information about the dataset."
   ]
  },
  {
   "cell_type": "code",
   "execution_count": 6,
   "metadata": {
    "id": "zyyKCGzCp7SS"
   },
   "outputs": [
    {
     "name": "stdout",
     "output_type": "stream",
     "text": [
      "<class 'pandas.core.frame.DataFrame'>\n",
      "RangeIndex: 19382 entries, 0 to 19381\n",
      "Data columns (total 12 columns):\n",
      " #   Column                    Non-Null Count  Dtype  \n",
      "---  ------                    --------------  -----  \n",
      " 0   #                         19382 non-null  int64  \n",
      " 1   claim_status              19084 non-null  object \n",
      " 2   video_id                  19382 non-null  int64  \n",
      " 3   video_duration_sec        19382 non-null  int64  \n",
      " 4   video_transcription_text  19084 non-null  object \n",
      " 5   verified_status           19382 non-null  object \n",
      " 6   author_ban_status         19382 non-null  object \n",
      " 7   video_view_count          19084 non-null  float64\n",
      " 8   video_like_count          19084 non-null  float64\n",
      " 9   video_share_count         19084 non-null  float64\n",
      " 10  video_download_count      19084 non-null  float64\n",
      " 11  video_comment_count       19084 non-null  float64\n",
      "dtypes: float64(5), int64(3), object(4)\n",
      "memory usage: 1.8+ MB\n"
     ]
    }
   ],
   "source": [
    "# Get basic information\n",
    "data.info()"
   ]
  },
  {
   "cell_type": "markdown",
   "metadata": {
    "id": "0T5Ieb6WB61Q"
   },
   "source": [
    "Generate basic descriptive statistics about the dataset."
   ]
  },
  {
   "cell_type": "code",
   "execution_count": 7,
   "metadata": {
    "id": "HbpuAS2UqY01"
   },
   "outputs": [
    {
     "data": {
      "text/html": [
       "<div>\n",
       "<style scoped>\n",
       "    .dataframe tbody tr th:only-of-type {\n",
       "        vertical-align: middle;\n",
       "    }\n",
       "\n",
       "    .dataframe tbody tr th {\n",
       "        vertical-align: top;\n",
       "    }\n",
       "\n",
       "    .dataframe thead th {\n",
       "        text-align: right;\n",
       "    }\n",
       "</style>\n",
       "<table border=\"1\" class=\"dataframe\">\n",
       "  <thead>\n",
       "    <tr style=\"text-align: right;\">\n",
       "      <th></th>\n",
       "      <th>#</th>\n",
       "      <th>claim_status</th>\n",
       "      <th>video_id</th>\n",
       "      <th>video_duration_sec</th>\n",
       "      <th>video_transcription_text</th>\n",
       "      <th>verified_status</th>\n",
       "      <th>author_ban_status</th>\n",
       "      <th>video_view_count</th>\n",
       "      <th>video_like_count</th>\n",
       "      <th>video_share_count</th>\n",
       "      <th>video_download_count</th>\n",
       "      <th>video_comment_count</th>\n",
       "    </tr>\n",
       "  </thead>\n",
       "  <tbody>\n",
       "    <tr>\n",
       "      <th>count</th>\n",
       "      <td>19382.000000</td>\n",
       "      <td>19084</td>\n",
       "      <td>1.938200e+04</td>\n",
       "      <td>19382.000000</td>\n",
       "      <td>19084</td>\n",
       "      <td>19382</td>\n",
       "      <td>19382</td>\n",
       "      <td>19084.000000</td>\n",
       "      <td>19084.000000</td>\n",
       "      <td>19084.000000</td>\n",
       "      <td>19084.000000</td>\n",
       "      <td>19084.000000</td>\n",
       "    </tr>\n",
       "    <tr>\n",
       "      <th>unique</th>\n",
       "      <td>NaN</td>\n",
       "      <td>2</td>\n",
       "      <td>NaN</td>\n",
       "      <td>NaN</td>\n",
       "      <td>19012</td>\n",
       "      <td>2</td>\n",
       "      <td>3</td>\n",
       "      <td>NaN</td>\n",
       "      <td>NaN</td>\n",
       "      <td>NaN</td>\n",
       "      <td>NaN</td>\n",
       "      <td>NaN</td>\n",
       "    </tr>\n",
       "    <tr>\n",
       "      <th>top</th>\n",
       "      <td>NaN</td>\n",
       "      <td>claim</td>\n",
       "      <td>NaN</td>\n",
       "      <td>NaN</td>\n",
       "      <td>a friend read  in the media a claim that badmi...</td>\n",
       "      <td>not verified</td>\n",
       "      <td>active</td>\n",
       "      <td>NaN</td>\n",
       "      <td>NaN</td>\n",
       "      <td>NaN</td>\n",
       "      <td>NaN</td>\n",
       "      <td>NaN</td>\n",
       "    </tr>\n",
       "    <tr>\n",
       "      <th>freq</th>\n",
       "      <td>NaN</td>\n",
       "      <td>9608</td>\n",
       "      <td>NaN</td>\n",
       "      <td>NaN</td>\n",
       "      <td>2</td>\n",
       "      <td>18142</td>\n",
       "      <td>15663</td>\n",
       "      <td>NaN</td>\n",
       "      <td>NaN</td>\n",
       "      <td>NaN</td>\n",
       "      <td>NaN</td>\n",
       "      <td>NaN</td>\n",
       "    </tr>\n",
       "    <tr>\n",
       "      <th>mean</th>\n",
       "      <td>9691.500000</td>\n",
       "      <td>NaN</td>\n",
       "      <td>5.627454e+09</td>\n",
       "      <td>32.421732</td>\n",
       "      <td>NaN</td>\n",
       "      <td>NaN</td>\n",
       "      <td>NaN</td>\n",
       "      <td>254708.558688</td>\n",
       "      <td>84304.636030</td>\n",
       "      <td>16735.248323</td>\n",
       "      <td>1049.429627</td>\n",
       "      <td>349.312146</td>\n",
       "    </tr>\n",
       "    <tr>\n",
       "      <th>std</th>\n",
       "      <td>5595.245794</td>\n",
       "      <td>NaN</td>\n",
       "      <td>2.536440e+09</td>\n",
       "      <td>16.229967</td>\n",
       "      <td>NaN</td>\n",
       "      <td>NaN</td>\n",
       "      <td>NaN</td>\n",
       "      <td>322893.280814</td>\n",
       "      <td>133420.546814</td>\n",
       "      <td>32036.174350</td>\n",
       "      <td>2004.299894</td>\n",
       "      <td>799.638865</td>\n",
       "    </tr>\n",
       "    <tr>\n",
       "      <th>min</th>\n",
       "      <td>1.000000</td>\n",
       "      <td>NaN</td>\n",
       "      <td>1.234959e+09</td>\n",
       "      <td>5.000000</td>\n",
       "      <td>NaN</td>\n",
       "      <td>NaN</td>\n",
       "      <td>NaN</td>\n",
       "      <td>20.000000</td>\n",
       "      <td>0.000000</td>\n",
       "      <td>0.000000</td>\n",
       "      <td>0.000000</td>\n",
       "      <td>0.000000</td>\n",
       "    </tr>\n",
       "    <tr>\n",
       "      <th>25%</th>\n",
       "      <td>4846.250000</td>\n",
       "      <td>NaN</td>\n",
       "      <td>3.430417e+09</td>\n",
       "      <td>18.000000</td>\n",
       "      <td>NaN</td>\n",
       "      <td>NaN</td>\n",
       "      <td>NaN</td>\n",
       "      <td>4942.500000</td>\n",
       "      <td>810.750000</td>\n",
       "      <td>115.000000</td>\n",
       "      <td>7.000000</td>\n",
       "      <td>1.000000</td>\n",
       "    </tr>\n",
       "    <tr>\n",
       "      <th>50%</th>\n",
       "      <td>9691.500000</td>\n",
       "      <td>NaN</td>\n",
       "      <td>5.618664e+09</td>\n",
       "      <td>32.000000</td>\n",
       "      <td>NaN</td>\n",
       "      <td>NaN</td>\n",
       "      <td>NaN</td>\n",
       "      <td>9954.500000</td>\n",
       "      <td>3403.500000</td>\n",
       "      <td>717.000000</td>\n",
       "      <td>46.000000</td>\n",
       "      <td>9.000000</td>\n",
       "    </tr>\n",
       "    <tr>\n",
       "      <th>75%</th>\n",
       "      <td>14536.750000</td>\n",
       "      <td>NaN</td>\n",
       "      <td>7.843960e+09</td>\n",
       "      <td>47.000000</td>\n",
       "      <td>NaN</td>\n",
       "      <td>NaN</td>\n",
       "      <td>NaN</td>\n",
       "      <td>504327.000000</td>\n",
       "      <td>125020.000000</td>\n",
       "      <td>18222.000000</td>\n",
       "      <td>1156.250000</td>\n",
       "      <td>292.000000</td>\n",
       "    </tr>\n",
       "    <tr>\n",
       "      <th>max</th>\n",
       "      <td>19382.000000</td>\n",
       "      <td>NaN</td>\n",
       "      <td>9.999873e+09</td>\n",
       "      <td>60.000000</td>\n",
       "      <td>NaN</td>\n",
       "      <td>NaN</td>\n",
       "      <td>NaN</td>\n",
       "      <td>999817.000000</td>\n",
       "      <td>657830.000000</td>\n",
       "      <td>256130.000000</td>\n",
       "      <td>14994.000000</td>\n",
       "      <td>9599.000000</td>\n",
       "    </tr>\n",
       "  </tbody>\n",
       "</table>\n",
       "</div>"
      ],
      "text/plain": [
       "                   # claim_status      video_id  video_duration_sec  \\\n",
       "count   19382.000000        19084  1.938200e+04        19382.000000   \n",
       "unique           NaN            2           NaN                 NaN   \n",
       "top              NaN        claim           NaN                 NaN   \n",
       "freq             NaN         9608           NaN                 NaN   \n",
       "mean     9691.500000          NaN  5.627454e+09           32.421732   \n",
       "std      5595.245794          NaN  2.536440e+09           16.229967   \n",
       "min         1.000000          NaN  1.234959e+09            5.000000   \n",
       "25%      4846.250000          NaN  3.430417e+09           18.000000   \n",
       "50%      9691.500000          NaN  5.618664e+09           32.000000   \n",
       "75%     14536.750000          NaN  7.843960e+09           47.000000   \n",
       "max     19382.000000          NaN  9.999873e+09           60.000000   \n",
       "\n",
       "                                 video_transcription_text verified_status  \\\n",
       "count                                               19084           19382   \n",
       "unique                                              19012               2   \n",
       "top     a friend read  in the media a claim that badmi...    not verified   \n",
       "freq                                                    2           18142   \n",
       "mean                                                  NaN             NaN   \n",
       "std                                                   NaN             NaN   \n",
       "min                                                   NaN             NaN   \n",
       "25%                                                   NaN             NaN   \n",
       "50%                                                   NaN             NaN   \n",
       "75%                                                   NaN             NaN   \n",
       "max                                                   NaN             NaN   \n",
       "\n",
       "       author_ban_status  video_view_count  video_like_count  \\\n",
       "count              19382      19084.000000      19084.000000   \n",
       "unique                 3               NaN               NaN   \n",
       "top               active               NaN               NaN   \n",
       "freq               15663               NaN               NaN   \n",
       "mean                 NaN     254708.558688      84304.636030   \n",
       "std                  NaN     322893.280814     133420.546814   \n",
       "min                  NaN         20.000000          0.000000   \n",
       "25%                  NaN       4942.500000        810.750000   \n",
       "50%                  NaN       9954.500000       3403.500000   \n",
       "75%                  NaN     504327.000000     125020.000000   \n",
       "max                  NaN     999817.000000     657830.000000   \n",
       "\n",
       "        video_share_count  video_download_count  video_comment_count  \n",
       "count        19084.000000          19084.000000         19084.000000  \n",
       "unique                NaN                   NaN                  NaN  \n",
       "top                   NaN                   NaN                  NaN  \n",
       "freq                  NaN                   NaN                  NaN  \n",
       "mean         16735.248323           1049.429627           349.312146  \n",
       "std          32036.174350           2004.299894           799.638865  \n",
       "min              0.000000              0.000000             0.000000  \n",
       "25%            115.000000              7.000000             1.000000  \n",
       "50%            717.000000             46.000000             9.000000  \n",
       "75%          18222.000000           1156.250000           292.000000  \n",
       "max         256130.000000          14994.000000          9599.000000  "
      ]
     },
     "execution_count": 7,
     "metadata": {},
     "output_type": "execute_result"
    }
   ],
   "source": [
    "# Generate basic descriptive stats\n",
    "data.describe(include=\"all\")"
   ]
  },
  {
   "cell_type": "markdown",
   "metadata": {
    "id": "9OpeNQDdyIT6"
   },
   "source": [
    "Check for and handle missing values."
   ]
  },
  {
   "cell_type": "code",
   "execution_count": 8,
   "metadata": {
    "id": "BrunHcfa7xnT"
   },
   "outputs": [
    {
     "data": {
      "text/plain": [
       "#                             0\n",
       "claim_status                298\n",
       "video_id                      0\n",
       "video_duration_sec            0\n",
       "video_transcription_text    298\n",
       "verified_status               0\n",
       "author_ban_status             0\n",
       "video_view_count            298\n",
       "video_like_count            298\n",
       "video_share_count           298\n",
       "video_download_count        298\n",
       "video_comment_count         298\n",
       "dtype: int64"
      ]
     },
     "execution_count": 8,
     "metadata": {},
     "output_type": "execute_result"
    }
   ],
   "source": [
    "# Check for missing values\n",
    "data.isnull().sum()"
   ]
  },
  {
   "cell_type": "code",
   "execution_count": 12,
   "metadata": {
    "id": "SHSj1Hma914I"
   },
   "outputs": [
    {
     "data": {
      "text/plain": [
       "#                           0\n",
       "claim_status                0\n",
       "video_id                    0\n",
       "video_duration_sec          0\n",
       "video_transcription_text    0\n",
       "verified_status             0\n",
       "author_ban_status           0\n",
       "video_view_count            0\n",
       "video_like_count            0\n",
       "video_share_count           0\n",
       "video_download_count        0\n",
       "video_comment_count         0\n",
       "dtype: int64"
      ]
     },
     "execution_count": 12,
     "metadata": {},
     "output_type": "execute_result"
    }
   ],
   "source": [
    "# Drop rows with missing values\n",
    "data.dropna(inplace=True)\n",
    "data.isnull().sum()"
   ]
  },
  {
   "cell_type": "code",
   "execution_count": 10,
   "metadata": {
    "id": "ZYUF3xap9_Fa"
   },
   "outputs": [
    {
     "data": {
      "text/html": [
       "<div>\n",
       "<style scoped>\n",
       "    .dataframe tbody tr th:only-of-type {\n",
       "        vertical-align: middle;\n",
       "    }\n",
       "\n",
       "    .dataframe tbody tr th {\n",
       "        vertical-align: top;\n",
       "    }\n",
       "\n",
       "    .dataframe thead th {\n",
       "        text-align: right;\n",
       "    }\n",
       "</style>\n",
       "<table border=\"1\" class=\"dataframe\">\n",
       "  <thead>\n",
       "    <tr style=\"text-align: right;\">\n",
       "      <th></th>\n",
       "      <th>#</th>\n",
       "      <th>claim_status</th>\n",
       "      <th>video_id</th>\n",
       "      <th>video_duration_sec</th>\n",
       "      <th>video_transcription_text</th>\n",
       "      <th>verified_status</th>\n",
       "      <th>author_ban_status</th>\n",
       "      <th>video_view_count</th>\n",
       "      <th>video_like_count</th>\n",
       "      <th>video_share_count</th>\n",
       "      <th>video_download_count</th>\n",
       "      <th>video_comment_count</th>\n",
       "    </tr>\n",
       "  </thead>\n",
       "  <tbody>\n",
       "    <tr>\n",
       "      <th>0</th>\n",
       "      <td>1</td>\n",
       "      <td>claim</td>\n",
       "      <td>7017666017</td>\n",
       "      <td>59</td>\n",
       "      <td>someone shared with me that drone deliveries a...</td>\n",
       "      <td>not verified</td>\n",
       "      <td>under review</td>\n",
       "      <td>343296.0</td>\n",
       "      <td>19425.0</td>\n",
       "      <td>241.0</td>\n",
       "      <td>1.0</td>\n",
       "      <td>0.0</td>\n",
       "    </tr>\n",
       "    <tr>\n",
       "      <th>1</th>\n",
       "      <td>2</td>\n",
       "      <td>claim</td>\n",
       "      <td>4014381136</td>\n",
       "      <td>32</td>\n",
       "      <td>someone shared with me that there are more mic...</td>\n",
       "      <td>not verified</td>\n",
       "      <td>active</td>\n",
       "      <td>140877.0</td>\n",
       "      <td>77355.0</td>\n",
       "      <td>19034.0</td>\n",
       "      <td>1161.0</td>\n",
       "      <td>684.0</td>\n",
       "    </tr>\n",
       "    <tr>\n",
       "      <th>2</th>\n",
       "      <td>3</td>\n",
       "      <td>claim</td>\n",
       "      <td>9859838091</td>\n",
       "      <td>31</td>\n",
       "      <td>someone shared with me that american industria...</td>\n",
       "      <td>not verified</td>\n",
       "      <td>active</td>\n",
       "      <td>902185.0</td>\n",
       "      <td>97690.0</td>\n",
       "      <td>2858.0</td>\n",
       "      <td>833.0</td>\n",
       "      <td>329.0</td>\n",
       "    </tr>\n",
       "    <tr>\n",
       "      <th>3</th>\n",
       "      <td>4</td>\n",
       "      <td>claim</td>\n",
       "      <td>1866847991</td>\n",
       "      <td>25</td>\n",
       "      <td>someone shared with me that the metro of st. p...</td>\n",
       "      <td>not verified</td>\n",
       "      <td>active</td>\n",
       "      <td>437506.0</td>\n",
       "      <td>239954.0</td>\n",
       "      <td>34812.0</td>\n",
       "      <td>1234.0</td>\n",
       "      <td>584.0</td>\n",
       "    </tr>\n",
       "    <tr>\n",
       "      <th>4</th>\n",
       "      <td>5</td>\n",
       "      <td>claim</td>\n",
       "      <td>7105231098</td>\n",
       "      <td>19</td>\n",
       "      <td>someone shared with me that the number of busi...</td>\n",
       "      <td>not verified</td>\n",
       "      <td>active</td>\n",
       "      <td>56167.0</td>\n",
       "      <td>34987.0</td>\n",
       "      <td>4110.0</td>\n",
       "      <td>547.0</td>\n",
       "      <td>152.0</td>\n",
       "    </tr>\n",
       "  </tbody>\n",
       "</table>\n",
       "</div>"
      ],
      "text/plain": [
       "   # claim_status    video_id  video_duration_sec  \\\n",
       "0  1        claim  7017666017                  59   \n",
       "1  2        claim  4014381136                  32   \n",
       "2  3        claim  9859838091                  31   \n",
       "3  4        claim  1866847991                  25   \n",
       "4  5        claim  7105231098                  19   \n",
       "\n",
       "                            video_transcription_text verified_status  \\\n",
       "0  someone shared with me that drone deliveries a...    not verified   \n",
       "1  someone shared with me that there are more mic...    not verified   \n",
       "2  someone shared with me that american industria...    not verified   \n",
       "3  someone shared with me that the metro of st. p...    not verified   \n",
       "4  someone shared with me that the number of busi...    not verified   \n",
       "\n",
       "  author_ban_status  video_view_count  video_like_count  video_share_count  \\\n",
       "0      under review          343296.0           19425.0              241.0   \n",
       "1            active          140877.0           77355.0            19034.0   \n",
       "2            active          902185.0           97690.0             2858.0   \n",
       "3            active          437506.0          239954.0            34812.0   \n",
       "4            active           56167.0           34987.0             4110.0   \n",
       "\n",
       "   video_download_count  video_comment_count  \n",
       "0                   1.0                  0.0  \n",
       "1                1161.0                684.0  \n",
       "2                 833.0                329.0  \n",
       "3                1234.0                584.0  \n",
       "4                 547.0                152.0  "
      ]
     },
     "execution_count": 10,
     "metadata": {},
     "output_type": "execute_result"
    }
   ],
   "source": [
    "# Display first few rows after handling missing values\n",
    "data.head()"
   ]
  },
  {
   "cell_type": "markdown",
   "metadata": {
    "id": "XcfffpANyNiu"
   },
   "source": [
    "Check for and handle duplicates."
   ]
  },
  {
   "cell_type": "code",
   "execution_count": 11,
   "metadata": {
    "id": "IKaGnWIsiHpH"
   },
   "outputs": [
    {
     "name": "stdout",
     "output_type": "stream",
     "text": [
      "Data shape before dropping duplicates: (19084, 12)\n",
      "Data shape after dropping duplicates: (19084, 12)\n"
     ]
    }
   ],
   "source": [
    "# Check for duplicates\n",
    "print(f\"Data shape before dropping duplicates: {data.shape}\")\n",
    "print(f\"Data shape after dropping duplicates: {data.drop_duplicates().shape}\")"
   ]
  },
  {
   "cell_type": "markdown",
   "metadata": {
    "id": "k-HcHpGc5Hn7"
   },
   "source": [
    "Check for and handle outliers."
   ]
  },
  {
   "cell_type": "code",
   "execution_count": 12,
   "metadata": {},
   "outputs": [],
   "source": [
    "def plot_boxplot(data, column_name:str, fliersize=2):\n",
    "    plt.figure(figsize=(6,2))\n",
    "    sns.boxplot(data=None, x=data[column_name], fliersize=fliersize)\n",
    "    plt.title(f\"Boxplot for {column_name} variable\")\n",
    "    plt.show(); "
   ]
  },
  {
   "cell_type": "code",
   "execution_count": 13,
   "metadata": {
    "id": "Ts_lcV6qUQHq"
   },
   "outputs": [
    {
     "data": {
      "image/png": "[encoded data removed]",
      "text/plain": [
       "<Figure size 600x200 with 1 Axes>"
      ]
     },
     "metadata": {},
     "output_type": "display_data"
    }
   ],
   "source": [
    "# Create a boxplot to visualize distribution of `video_duration_sec`\n",
    "plot_boxplot(data, \"video_duration_sec\")"
   ]
  },
  {
   "cell_type": "code",
   "execution_count": 14,
   "metadata": {
    "id": "qlUccI91a4NH"
   },
   "outputs": [
    {
     "data": {
      "image/png": "[encoded data removed]",
      "text/plain": [
       "<Figure size 600x200 with 1 Axes>"
      ]
     },
     "metadata": {},
     "output_type": "display_data"
    }
   ],
   "source": [
    "# Create a boxplot to visualize distribution of `video_view_count`\n",
    "plot_boxplot(data, \"video_view_count\")"
   ]
  },
  {
   "cell_type": "code",
   "execution_count": 15,
   "metadata": {
    "id": "N0UVdeRUzEEF"
   },
   "outputs": [
    {
     "data": {
      "image/png": "[encoded data removed]",
      "text/plain": [
       "<Figure size 600x200 with 1 Axes>"
      ]
     },
     "metadata": {},
     "output_type": "display_data"
    }
   ],
   "source": [
    "# Create a boxplot to visualize distribution of `video_like_count`\n",
    "plot_boxplot(data, \"video_like_count\")"
   ]
  },
  {
   "cell_type": "code",
   "execution_count": 16,
   "metadata": {
    "id": "-gE1fkGo0eG9"
   },
   "outputs": [
    {
     "data": {
      "image/png": "[encoded data removed]",
      "text/plain": [
       "<Figure size 600x200 with 1 Axes>"
      ]
     },
     "metadata": {},
     "output_type": "display_data"
    }
   ],
   "source": [
    "# Create a boxplot to visualize distribution of `video_comment_count`\n",
    "plot_boxplot(data, \"video_comment_count\")"
   ]
  },
  {
   "cell_type": "code",
   "execution_count": 13,
   "metadata": {
    "id": "85JfQprd5Kn9"
   },
   "outputs": [
    {
     "name": "stdout",
     "output_type": "stream",
     "text": [
      "video_like_count upper limit: 311333.875\n",
      "video_like_count max: 311333.875\n"
     ]
    }
   ],
   "source": [
    "# Check for and handle outliers for video_like_count\n",
    "precentage_25 = data[\"video_like_count\"].quantile(0.25)\n",
    "precentage_75 = data[\"video_like_count\"].quantile(0.75)\n",
    "iqr = precentage_75 - precentage_25\n",
    "\n",
    "upper_limit = precentage_75 + 1.5 * iqr\n",
    "data[\"video_like_count\"] = data[\"video_like_count\"].map(lambda x: upper_limit if x > upper_limit else x)\n",
    "print(f\"video_like_count upper limit: {upper_limit}\")\n",
    "maximum_value = data[\"video_like_count\"].max()\n",
    "print(f\"video_like_count max: {maximum_value}\")"
   ]
  },
  {
   "cell_type": "markdown",
   "metadata": {
    "id": "eDcY0ZaEJgDl"
   },
   "source": [
    "Check class balance."
   ]
  },
  {
   "cell_type": "code",
   "execution_count": 5,
   "metadata": {},
   "outputs": [
    {
     "data": {
      "text/plain": [
       "verified_status\n",
       "not verified    0.93712\n",
       "verified        0.06288\n",
       "Name: proportion, dtype: float64"
      ]
     },
     "execution_count": 5,
     "metadata": {},
     "output_type": "execute_result"
    }
   ],
   "source": [
    "claims = data.groupby([\"verified_status\",\"claim_status\"]).count().reset_index()[[\"verified_status\", \"claim_status\", \"#\"]]\n",
    "claims[\"precentage\"] = claims[\"#\"].map(lambda x: (x/claims[\"#\"].sum()*100).round(2))\n",
    "\n",
    "# Check class balance\n",
    "data[\"verified_status\"].value_counts(normalize=True)"
   ]
  },
  {
   "cell_type": "code",
   "execution_count": 233,
   "metadata": {
    "id": "e3klRqlsJhtp"
   },
   "outputs": [
    {
     "data": {
      "image/png": "[encoded data removed]",
      "text/plain": [
       "<Figure size 700x500 with 1 Axes>"
      ]
     },
     "metadata": {},
     "output_type": "display_data"
    }
   ],
   "source": [
    "# Check class balance for video_comment_count\n",
    "plt.figure(figsize=(7,5))\n",
    "g = sns.histplot(data=data,\n",
    "             x='claim_status',\n",
    "             hue='verified_status',\n",
    "             multiple='dodge',\n",
    "             shrink=0.9)\n",
    "plt.title(\"Class balance for video_comment_count\");\n",
    "\n",
    "# Percentege for: \"verified + claim\", \"verified + opinion\", \"non verified + claim\", \"non verified + opinion\" \n",
    "text = [1.10, 5.19, 49.25, 44.46]\n",
    "verified_total = text[0]  + text[1]\n",
    "no_verified_total = text[2]  + text[3]\n",
    "\n",
    "for i, height in enumerate(g.patches):\n",
    "    plt.text(height.get_x() + height.get_width() / 2, height.get_height() + 100, f'{text[i]}%', ha='center')\n",
    "\n",
    "plt.legend(title='Verified status, % of videos',\n",
    "           loc='upper right', bbox_to_anchor=(1.16, 1), ncol=1,\n",
    "           labels=[f'verified, {verified_total:.2f}%', f'not verified, {no_verified_total:.2f}%'])\n",
    "sns.despine()\n",
    "plt.show()"
   ]
  },
  {
   "cell_type": "markdown",
   "metadata": {
    "id": "ePYWt2p5LqlW"
   },
   "source": [
    "    Approximately 94.2% of the dataset represents videos posted by unverified accounts and 5.8% represents videos posted by verified accounts. So the outcome variable is not very balanced."
   ]
  },
  {
   "cell_type": "markdown",
   "metadata": {
    "id": "zRDMuXjbA9KQ"
   },
   "source": [
    "Use resampling to create class balance in the outcome variable, if needed."
   ]
  },
  {
   "cell_type": "code",
   "execution_count": 14,
   "metadata": {
    "id": "AWhetFT3Ggyp"
   },
   "outputs": [
    {
     "data": {
      "text/plain": [
       "verified_status\n",
       "verified        17884\n",
       "not verified    17884\n",
       "Name: count, dtype: int64"
      ]
     },
     "execution_count": 14,
     "metadata": {},
     "output_type": "execute_result"
    }
   ],
   "source": [
    "# Use resampling to create class balance in the outcome variable, if needed\n",
    "\n",
    "# Identify data points from majority and minority classes\n",
    "minority = data[data[\"verified_status\"] == \"verified\"]\n",
    "majority = data[data[\"verified_status\"] == \"not verified\"]\n",
    "\n",
    "# Upsample the minority class (which is \"verified\")\n",
    "minority_upsample = resample(minority, #data for resample\n",
    "                             replace=True, #replacement strategy for resampling\n",
    "                             n_samples=majority.shape[0], #number of samples to generate\n",
    "                             random_state=42) #random state value\n",
    "\n",
    "# Combine majority class with upsampled minority class\n",
    "data_resampled = pd.concat([minority_upsample, majority], axis=0)\n",
    "data_resampled.drop([\"#\"], axis=1, inplace=True)\n",
    "# Display new class counts\n",
    "data_resampled[\"verified_status\"].value_counts()\n"
   ]
  },
  {
   "cell_type": "markdown",
   "metadata": {
    "id": "K2RHONw6D3R6"
   },
   "source": [
    "Get the average `video_transcription_text` length for videos posted by verified accounts and the average `video_transcription_text` length for videos posted by unverified accounts.\n",
    "\n"
   ]
  },
  {
   "cell_type": "code",
   "execution_count": 9,
   "metadata": {
    "id": "w-aaFCPCD88e"
   },
   "outputs": [
    {
     "data": {
      "text/html": [
       "<div>\n",
       "<style scoped>\n",
       "    .dataframe tbody tr th:only-of-type {\n",
       "        vertical-align: middle;\n",
       "    }\n",
       "\n",
       "    .dataframe tbody tr th {\n",
       "        vertical-align: top;\n",
       "    }\n",
       "\n",
       "    .dataframe thead th {\n",
       "        text-align: right;\n",
       "    }\n",
       "</style>\n",
       "<table border=\"1\" class=\"dataframe\">\n",
       "  <thead>\n",
       "    <tr style=\"text-align: right;\">\n",
       "      <th></th>\n",
       "      <th>video_transcription_text</th>\n",
       "    </tr>\n",
       "    <tr>\n",
       "      <th>claim_status</th>\n",
       "      <th></th>\n",
       "    </tr>\n",
       "  </thead>\n",
       "  <tbody>\n",
       "    <tr>\n",
       "      <th>claim</th>\n",
       "      <td>95.274333</td>\n",
       "    </tr>\n",
       "    <tr>\n",
       "      <th>opinion</th>\n",
       "      <td>82.581333</td>\n",
       "    </tr>\n",
       "  </tbody>\n",
       "</table>\n",
       "</div>"
      ],
      "text/plain": [
       "              video_transcription_text\n",
       "claim_status                          \n",
       "claim                        95.274333\n",
       "opinion                      82.581333"
      ]
     },
     "execution_count": 9,
     "metadata": {},
     "output_type": "execute_result"
    }
   ],
   "source": [
    "# Get the average `video_transcription_text` length for claims and the average `video_transcription_text` length for opinions\n",
    "average_text_length = data_resampled[[\"video_transcription_text\", \"claim_status\"]].copy()\n",
    "average_text_length[\"video_transcription_text\"] = average_text_length[\"video_transcription_text\"].map(lambda x: len(x))\n",
    "average_text_length.groupby(\"claim_status\").mean()"
   ]
  },
  {
   "cell_type": "markdown",
   "metadata": {
    "id": "hb_u1c6_T1i-"
   },
   "source": [
    "Extract the length of each `video_transcription_text` and add this as a column to the dataframe, so that it can be used as a potential feature in the model."
   ]
  },
  {
   "cell_type": "code",
   "execution_count": 15,
   "metadata": {
    "id": "8Yr9hhhVHeYY"
   },
   "outputs": [],
   "source": [
    "# Extract the length of each `video_transcription_text` and add this as a column to the dataframe\n",
    "data_resampled[\"text_length\"]  = data_resampled[\"video_transcription_text\"].map(lambda x: len(x))"
   ]
  },
  {
   "cell_type": "code",
   "execution_count": 11,
   "metadata": {
    "id": "Vzg0J8UEJ1wx"
   },
   "outputs": [
    {
     "data": {
      "text/html": [
       "<div>\n",
       "<style scoped>\n",
       "    .dataframe tbody tr th:only-of-type {\n",
       "        vertical-align: middle;\n",
       "    }\n",
       "\n",
       "    .dataframe tbody tr th {\n",
       "        vertical-align: top;\n",
       "    }\n",
       "\n",
       "    .dataframe thead th {\n",
       "        text-align: right;\n",
       "    }\n",
       "</style>\n",
       "<table border=\"1\" class=\"dataframe\">\n",
       "  <thead>\n",
       "    <tr style=\"text-align: right;\">\n",
       "      <th></th>\n",
       "      <th>claim_status</th>\n",
       "      <th>video_id</th>\n",
       "      <th>video_duration_sec</th>\n",
       "      <th>video_transcription_text</th>\n",
       "      <th>verified_status</th>\n",
       "      <th>author_ban_status</th>\n",
       "      <th>video_view_count</th>\n",
       "      <th>video_like_count</th>\n",
       "      <th>video_share_count</th>\n",
       "      <th>video_download_count</th>\n",
       "      <th>video_comment_count</th>\n",
       "      <th>text_length</th>\n",
       "    </tr>\n",
       "  </thead>\n",
       "  <tbody>\n",
       "    <tr>\n",
       "      <th>18389</th>\n",
       "      <td>opinion</td>\n",
       "      <td>9037966708</td>\n",
       "      <td>49</td>\n",
       "      <td>my colleagues are willing to wager that the el...</td>\n",
       "      <td>verified</td>\n",
       "      <td>active</td>\n",
       "      <td>6359.0</td>\n",
       "      <td>682.0</td>\n",
       "      <td>221.0</td>\n",
       "      <td>5.0</td>\n",
       "      <td>2.0</td>\n",
       "      <td>119</td>\n",
       "    </tr>\n",
       "    <tr>\n",
       "      <th>15692</th>\n",
       "      <td>opinion</td>\n",
       "      <td>4620370740</td>\n",
       "      <td>53</td>\n",
       "      <td>my family's belief is that the chicken is the ...</td>\n",
       "      <td>verified</td>\n",
       "      <td>active</td>\n",
       "      <td>4576.0</td>\n",
       "      <td>1452.0</td>\n",
       "      <td>437.0</td>\n",
       "      <td>15.0</td>\n",
       "      <td>5.0</td>\n",
       "      <td>75</td>\n",
       "    </tr>\n",
       "    <tr>\n",
       "      <th>18422</th>\n",
       "      <td>opinion</td>\n",
       "      <td>7299256088</td>\n",
       "      <td>36</td>\n",
       "      <td>my colleagues are willing to bet that nucelear...</td>\n",
       "      <td>verified</td>\n",
       "      <td>active</td>\n",
       "      <td>2475.0</td>\n",
       "      <td>243.0</td>\n",
       "      <td>18.0</td>\n",
       "      <td>3.0</td>\n",
       "      <td>1.0</td>\n",
       "      <td>95</td>\n",
       "    </tr>\n",
       "    <tr>\n",
       "      <th>18053</th>\n",
       "      <td>opinion</td>\n",
       "      <td>4522903570</td>\n",
       "      <td>53</td>\n",
       "      <td>my family is willing to wager that the voyager...</td>\n",
       "      <td>verified</td>\n",
       "      <td>active</td>\n",
       "      <td>8054.0</td>\n",
       "      <td>1700.0</td>\n",
       "      <td>322.0</td>\n",
       "      <td>32.0</td>\n",
       "      <td>10.0</td>\n",
       "      <td>142</td>\n",
       "    </tr>\n",
       "    <tr>\n",
       "      <th>17471</th>\n",
       "      <td>opinion</td>\n",
       "      <td>8972158649</td>\n",
       "      <td>26</td>\n",
       "      <td>i am willing to say that you can fit about 400...</td>\n",
       "      <td>verified</td>\n",
       "      <td>active</td>\n",
       "      <td>3975.0</td>\n",
       "      <td>1626.0</td>\n",
       "      <td>280.0</td>\n",
       "      <td>36.0</td>\n",
       "      <td>10.0</td>\n",
       "      <td>77</td>\n",
       "    </tr>\n",
       "  </tbody>\n",
       "</table>\n",
       "</div>"
      ],
      "text/plain": [
       "      claim_status    video_id  video_duration_sec  \\\n",
       "18389      opinion  9037966708                  49   \n",
       "15692      opinion  4620370740                  53   \n",
       "18422      opinion  7299256088                  36   \n",
       "18053      opinion  4522903570                  53   \n",
       "17471      opinion  8972158649                  26   \n",
       "\n",
       "                                video_transcription_text verified_status  \\\n",
       "18389  my colleagues are willing to wager that the el...        verified   \n",
       "15692  my family's belief is that the chicken is the ...        verified   \n",
       "18422  my colleagues are willing to bet that nucelear...        verified   \n",
       "18053  my family is willing to wager that the voyager...        verified   \n",
       "17471  i am willing to say that you can fit about 400...        verified   \n",
       "\n",
       "      author_ban_status  video_view_count  video_like_count  \\\n",
       "18389            active            6359.0             682.0   \n",
       "15692            active            4576.0            1452.0   \n",
       "18422            active            2475.0             243.0   \n",
       "18053            active            8054.0            1700.0   \n",
       "17471            active            3975.0            1626.0   \n",
       "\n",
       "       video_share_count  video_download_count  video_comment_count  \\\n",
       "18389              221.0                   5.0                  2.0   \n",
       "15692              437.0                  15.0                  5.0   \n",
       "18422               18.0                   3.0                  1.0   \n",
       "18053              322.0                  32.0                 10.0   \n",
       "17471              280.0                  36.0                 10.0   \n",
       "\n",
       "       text_length  \n",
       "18389          119  \n",
       "15692           75  \n",
       "18422           95  \n",
       "18053          142  \n",
       "17471           77  "
      ]
     },
     "execution_count": 11,
     "metadata": {},
     "output_type": "execute_result"
    }
   ],
   "source": [
    "# Display first few rows of dataframe after adding new column\n",
    "data_resampled.head()"
   ]
  },
  {
   "cell_type": "markdown",
   "metadata": {
    "id": "LGu7ipi4AJmP"
   },
   "source": [
    "Visualize the distribution of `video_transcription_text` length for videos posted by verified accounts and videos posted by unverified accounts."
   ]
  },
  {
   "cell_type": "code",
   "execution_count": 23,
   "metadata": {},
   "outputs": [
    {
     "data": {
      "image/png": "[encoded data removed]",
      "text/plain": [
       "<Figure size 800x400 with 1 Axes>"
      ]
     },
     "metadata": {},
     "output_type": "display_data"
    }
   ],
   "source": [
    "# Visualize the distribution of `video_transcription_text` length for videos posted by verified accounts\n",
    "# and videos posted by unverified accounts. Create two histograms in one plot\n",
    "plt.figure(figsize=(8,4))\n",
    "ax = sns.histplot(data=data_resampled, x=\"text_length\", bins=range(0,175,4), \n",
    "                  hue=\"verified_status\", \n",
    "                  multiple='stack',\n",
    "                  palette='pastel')\n",
    "ax.set_xticks(range(0,175,10))\n",
    "ax.set_xticklabels(range(0,175,10))\n",
    "plt.title(\"Video distribution of 'video_transcription_text' length for videos posted\\nby verified accounts and videos posted by unverified accounts\");\n"
   ]
  },
  {
   "cell_type": "markdown",
   "metadata": {
    "id": "KlF7ZNSyW0yV"
   },
   "source": [
    "### **Task 2b. Examine correlations**"
   ]
  },
  {
   "cell_type": "markdown",
   "metadata": {
    "id": "pKkx6FvS4OpI"
   },
   "source": [
    "Next, code a correlation matrix to help determine most correlated variables."
   ]
  },
  {
   "cell_type": "code",
   "execution_count": 36,
   "metadata": {},
   "outputs": [
    {
     "data": {
      "text/plain": [
       "claim_status                        object\n",
       "video_id                             int64\n",
       "video_duration_sec                   int64\n",
       "video_transcription_text            object\n",
       "verified_status                     object\n",
       "author_ban_status                   object\n",
       "video_view_count                   float64\n",
       "video_like_count                   float64\n",
       "video_share_count                  float64\n",
       "video_download_count               float64\n",
       "video_comment_count                float64\n",
       "video_transcription_text_length      int64\n",
       "dtype: object"
      ]
     },
     "execution_count": 36,
     "metadata": {},
     "output_type": "execute_result"
    }
   ],
   "source": [
    "data_resampled.dtypes"
   ]
  },
  {
   "cell_type": "markdown",
   "metadata": {},
   "source": [
    "    Pearson correlation coefficient (PCC)\n",
    "    0 - no correlation\n",
    "    -1 and 1 - good correlation"
   ]
  },
  {
   "cell_type": "code",
   "execution_count": 16,
   "metadata": {},
   "outputs": [
    {
     "data": {
      "text/plain": [
       "claim_status            0.375791\n",
       "video_id                0.008998\n",
       "video_duration_sec     -0.020918\n",
       "verified_status         1.000000\n",
       "author_ban_status      -0.123800\n",
       "video_view_count       -0.305072\n",
       "video_like_count       -0.269362\n",
       "video_share_count      -0.199297\n",
       "video_download_count   -0.225013\n",
       "video_comment_count    -0.173057\n",
       "text_length            -0.118838\n",
       "Name: verified_status, dtype: float64"
      ]
     },
     "execution_count": 16,
     "metadata": {},
     "output_type": "execute_result"
    }
   ],
   "source": [
    "df = data_resampled.copy()\n",
    "df[\"claim_status\"] = df[\"claim_status\"].astype(\"category\").cat.codes\n",
    "df.drop(\"video_transcription_text\", axis=1, inplace=True)\n",
    "df[\"verified_status\"] = df[\"verified_status\"].astype(\"category\").cat.codes\n",
    "df[\"author_ban_status\"] = df[\"author_ban_status\"].astype(\"category\").cat.codes\n",
    "df.corr()[\"verified_status\"]"
   ]
  },
  {
   "cell_type": "code",
   "execution_count": 31,
   "metadata": {},
   "outputs": [
    {
     "data": {
      "image/png": "[encoded data removed]",
      "text/plain": [
       "<Figure size 800x700 with 2 Axes>"
      ]
     },
     "metadata": {},
     "output_type": "display_data"
    }
   ],
   "source": [
    "# Create a heatmap to visualize how correlated variables are\n",
    "plt.figure(figsize = (8,7))\n",
    "ax = sns.heatmap(df.corr(), cmap = 'Blues', annot=True)\n",
    "colorbar = ax.collections[0].colorbar\n",
    "plt.show();"
   ]
  },
  {
   "cell_type": "code",
   "execution_count": 26,
   "metadata": {
    "id": "KCEzE-gwL5gq"
   },
   "outputs": [
    {
     "data": {
      "text/html": [
       "<div>\n",
       "<style scoped>\n",
       "    .dataframe tbody tr th:only-of-type {\n",
       "        vertical-align: middle;\n",
       "    }\n",
       "\n",
       "    .dataframe tbody tr th {\n",
       "        vertical-align: top;\n",
       "    }\n",
       "\n",
       "    .dataframe thead th {\n",
       "        text-align: right;\n",
       "    }\n",
       "</style>\n",
       "<table border=\"1\" class=\"dataframe\">\n",
       "  <thead>\n",
       "    <tr style=\"text-align: right;\">\n",
       "      <th></th>\n",
       "      <th>video_id</th>\n",
       "      <th>video_duration_sec</th>\n",
       "      <th>video_view_count</th>\n",
       "      <th>video_like_count</th>\n",
       "      <th>video_share_count</th>\n",
       "      <th>video_download_count</th>\n",
       "      <th>video_comment_count</th>\n",
       "      <th>text_length</th>\n",
       "    </tr>\n",
       "  </thead>\n",
       "  <tbody>\n",
       "    <tr>\n",
       "      <th>video_id</th>\n",
       "      <td>1.000000</td>\n",
       "      <td>0.013938</td>\n",
       "      <td>0.001607</td>\n",
       "      <td>0.004534</td>\n",
       "      <td>0.009136</td>\n",
       "      <td>0.006814</td>\n",
       "      <td>0.011346</td>\n",
       "      <td>-0.007634</td>\n",
       "    </tr>\n",
       "    <tr>\n",
       "      <th>video_duration_sec</th>\n",
       "      <td>0.013938</td>\n",
       "      <td>1.000000</td>\n",
       "      <td>0.013892</td>\n",
       "      <td>0.004028</td>\n",
       "      <td>0.001944</td>\n",
       "      <td>0.006930</td>\n",
       "      <td>-0.000664</td>\n",
       "      <td>-0.005043</td>\n",
       "    </tr>\n",
       "    <tr>\n",
       "      <th>video_view_count</th>\n",
       "      <td>0.001607</td>\n",
       "      <td>0.013892</td>\n",
       "      <td>1.000000</td>\n",
       "      <td>0.855343</td>\n",
       "      <td>0.710466</td>\n",
       "      <td>0.691557</td>\n",
       "      <td>0.585626</td>\n",
       "      <td>0.246867</td>\n",
       "    </tr>\n",
       "    <tr>\n",
       "      <th>video_like_count</th>\n",
       "      <td>0.004534</td>\n",
       "      <td>0.004028</td>\n",
       "      <td>0.855343</td>\n",
       "      <td>1.000000</td>\n",
       "      <td>0.832361</td>\n",
       "      <td>0.806369</td>\n",
       "      <td>0.688681</td>\n",
       "      <td>0.217852</td>\n",
       "    </tr>\n",
       "    <tr>\n",
       "      <th>video_share_count</th>\n",
       "      <td>0.009136</td>\n",
       "      <td>0.001944</td>\n",
       "      <td>0.710466</td>\n",
       "      <td>0.832361</td>\n",
       "      <td>1.000000</td>\n",
       "      <td>0.709738</td>\n",
       "      <td>0.621048</td>\n",
       "      <td>0.176362</td>\n",
       "    </tr>\n",
       "    <tr>\n",
       "      <th>video_download_count</th>\n",
       "      <td>0.006814</td>\n",
       "      <td>0.006930</td>\n",
       "      <td>0.691557</td>\n",
       "      <td>0.806369</td>\n",
       "      <td>0.709738</td>\n",
       "      <td>1.000000</td>\n",
       "      <td>0.852601</td>\n",
       "      <td>0.175287</td>\n",
       "    </tr>\n",
       "    <tr>\n",
       "      <th>video_comment_count</th>\n",
       "      <td>0.011346</td>\n",
       "      <td>-0.000664</td>\n",
       "      <td>0.585626</td>\n",
       "      <td>0.688681</td>\n",
       "      <td>0.621048</td>\n",
       "      <td>0.852601</td>\n",
       "      <td>1.000000</td>\n",
       "      <td>0.154423</td>\n",
       "    </tr>\n",
       "    <tr>\n",
       "      <th>text_length</th>\n",
       "      <td>-0.007634</td>\n",
       "      <td>-0.005043</td>\n",
       "      <td>0.246867</td>\n",
       "      <td>0.217852</td>\n",
       "      <td>0.176362</td>\n",
       "      <td>0.175287</td>\n",
       "      <td>0.154423</td>\n",
       "      <td>1.000000</td>\n",
       "    </tr>\n",
       "  </tbody>\n",
       "</table>\n",
       "</div>"
      ],
      "text/plain": [
       "                      video_id  video_duration_sec  video_view_count  \\\n",
       "video_id              1.000000            0.013938          0.001607   \n",
       "video_duration_sec    0.013938            1.000000          0.013892   \n",
       "video_view_count      0.001607            0.013892          1.000000   \n",
       "video_like_count      0.004534            0.004028          0.855343   \n",
       "video_share_count     0.009136            0.001944          0.710466   \n",
       "video_download_count  0.006814            0.006930          0.691557   \n",
       "video_comment_count   0.011346           -0.000664          0.585626   \n",
       "text_length          -0.007634           -0.005043          0.246867   \n",
       "\n",
       "                      video_like_count  video_share_count  \\\n",
       "video_id                      0.004534           0.009136   \n",
       "video_duration_sec            0.004028           0.001944   \n",
       "video_view_count              0.855343           0.710466   \n",
       "video_like_count              1.000000           0.832361   \n",
       "video_share_count             0.832361           1.000000   \n",
       "video_download_count          0.806369           0.709738   \n",
       "video_comment_count           0.688681           0.621048   \n",
       "text_length                   0.217852           0.176362   \n",
       "\n",
       "                      video_download_count  video_comment_count  text_length  \n",
       "video_id                          0.006814             0.011346    -0.007634  \n",
       "video_duration_sec                0.006930            -0.000664    -0.005043  \n",
       "video_view_count                  0.691557             0.585626     0.246867  \n",
       "video_like_count                  0.806369             0.688681     0.217852  \n",
       "video_share_count                 0.709738             0.621048     0.176362  \n",
       "video_download_count              1.000000             0.852601     0.175287  \n",
       "video_comment_count               0.852601             1.000000     0.154423  \n",
       "text_length                       0.175287             0.154423     1.000000  "
      ]
     },
     "execution_count": 26,
     "metadata": {},
     "output_type": "execute_result"
    }
   ],
   "source": [
    "# Code a correlation matrix to help determine most correlated variables\n",
    "data_resampled.corr(numeric_only=True)"
   ]
  },
  {
   "cell_type": "markdown",
   "metadata": {
    "id": "6Ldmks6g4ZzE"
   },
   "source": [
    "Visualize a correlation heatmap of the data."
   ]
  },
  {
   "cell_type": "code",
   "execution_count": 28,
   "metadata": {
    "id": "8Ti_MFF7tekR"
   },
   "outputs": [
    {
     "data": {
      "image/png": "[encoded data removed]",
      "text/plain": [
       "<Figure size 800x700 with 2 Axes>"
      ]
     },
     "metadata": {},
     "output_type": "display_data"
    }
   ],
   "source": [
    "# Create a heatmap to visualize how correlated variables are\n",
    "plt.figure(figsize = (8,7))\n",
    "ax = sns.heatmap(data_resampled.corr(numeric_only=True), cmap = 'Blues', annot=True)\n",
    "colorbar = ax.collections[0].colorbar\n",
    "plt.show();"
   ]
  },
  {
   "cell_type": "markdown",
   "metadata": {
    "id": "zyQgcrDI00bT"
   },
   "source": [
    "One of the model assumptions for logistic regression is no severe multicollinearity among the features. Take this into consideration as you examine the heatmap and choose which features to proceed with.\n",
    "\n",
    "**Question:** What variables are shown to be correlated in the heatmap?"
   ]
  },
  {
   "cell_type": "markdown",
   "metadata": {},
   "source": [
    "    \"video_view_count\", \"video_like_count\", \"video_share_count\", \"video_download_count\" and \"video_comment_count\" - all these variables are highly correlated with each other which make it impossible to use together for logistic model. We should chose just one of that features for our model."
   ]
  },
  {
   "cell_type": "markdown",
   "metadata": {
    "id": "lgPul2DiY6T4"
   },
   "source": [
    "<img src=\"images/Construct.png\" width=\"100\" height=\"100\" align=left>\n",
    "\n",
    "## **PACE: Construct**\n",
    "\n",
    "After analysis and deriving variables with close relationships, it is time to begin constructing the model. Consider the questions in your PACE Strategy Document to reflect on the Construct stage."
   ]
  },
  {
   "cell_type": "markdown",
   "metadata": {
    "id": "07UJJm41ajgf"
   },
   "source": [
    "### **Task 3a. Select variables**"
   ]
  },
  {
   "cell_type": "markdown",
   "metadata": {
    "id": "DxCW0RH_4m3Q"
   },
   "source": [
    "Set your Y and X variables."
   ]
  },
  {
   "cell_type": "markdown",
   "metadata": {
    "id": "WhocrccZBcwx"
   },
   "source": [
    "Select the outcome variable."
   ]
  },
  {
   "cell_type": "code",
   "execution_count": 17,
   "metadata": {
    "id": "uH6jiQECBgFn"
   },
   "outputs": [],
   "source": [
    "# Select outcome variable\n",
    "y = data_resampled[\"verified_status\"]"
   ]
  },
  {
   "cell_type": "markdown",
   "metadata": {
    "id": "WPxEovpUBZfk"
   },
   "source": [
    "Select the features."
   ]
  },
  {
   "cell_type": "code",
   "execution_count": 34,
   "metadata": {},
   "outputs": [
    {
     "data": {
      "text/plain": [
       "claim_status                 object\n",
       "video_id                      int64\n",
       "video_duration_sec            int64\n",
       "video_transcription_text     object\n",
       "verified_status              object\n",
       "author_ban_status            object\n",
       "video_view_count            float64\n",
       "video_like_count            float64\n",
       "video_share_count           float64\n",
       "video_download_count        float64\n",
       "video_comment_count         float64\n",
       "text_length                   int64\n",
       "dtype: object"
      ]
     },
     "execution_count": 34,
     "metadata": {},
     "output_type": "execute_result"
    }
   ],
   "source": [
    "data_resampled.dtypes"
   ]
  },
  {
   "cell_type": "code",
   "execution_count": 18,
   "metadata": {
    "id": "iJ5C6M5zCP3k"
   },
   "outputs": [
    {
     "data": {
      "text/html": [
       "<div>\n",
       "<style scoped>\n",
       "    .dataframe tbody tr th:only-of-type {\n",
       "        vertical-align: middle;\n",
       "    }\n",
       "\n",
       "    .dataframe tbody tr th {\n",
       "        vertical-align: top;\n",
       "    }\n",
       "\n",
       "    .dataframe thead th {\n",
       "        text-align: right;\n",
       "    }\n",
       "</style>\n",
       "<table border=\"1\" class=\"dataframe\">\n",
       "  <thead>\n",
       "    <tr style=\"text-align: right;\">\n",
       "      <th></th>\n",
       "      <th>claim_status</th>\n",
       "      <th>author_ban_status</th>\n",
       "      <th>video_duration_sec</th>\n",
       "      <th>video_view_count</th>\n",
       "      <th>text_length</th>\n",
       "    </tr>\n",
       "  </thead>\n",
       "  <tbody>\n",
       "    <tr>\n",
       "      <th>18389</th>\n",
       "      <td>opinion</td>\n",
       "      <td>active</td>\n",
       "      <td>49</td>\n",
       "      <td>6359.0</td>\n",
       "      <td>119</td>\n",
       "    </tr>\n",
       "    <tr>\n",
       "      <th>15692</th>\n",
       "      <td>opinion</td>\n",
       "      <td>active</td>\n",
       "      <td>53</td>\n",
       "      <td>4576.0</td>\n",
       "      <td>75</td>\n",
       "    </tr>\n",
       "    <tr>\n",
       "      <th>18422</th>\n",
       "      <td>opinion</td>\n",
       "      <td>active</td>\n",
       "      <td>36</td>\n",
       "      <td>2475.0</td>\n",
       "      <td>95</td>\n",
       "    </tr>\n",
       "    <tr>\n",
       "      <th>18053</th>\n",
       "      <td>opinion</td>\n",
       "      <td>active</td>\n",
       "      <td>53</td>\n",
       "      <td>8054.0</td>\n",
       "      <td>142</td>\n",
       "    </tr>\n",
       "    <tr>\n",
       "      <th>17471</th>\n",
       "      <td>opinion</td>\n",
       "      <td>active</td>\n",
       "      <td>26</td>\n",
       "      <td>3975.0</td>\n",
       "      <td>77</td>\n",
       "    </tr>\n",
       "  </tbody>\n",
       "</table>\n",
       "</div>"
      ],
      "text/plain": [
       "      claim_status author_ban_status  video_duration_sec  video_view_count  \\\n",
       "18389      opinion            active                  49            6359.0   \n",
       "15692      opinion            active                  53            4576.0   \n",
       "18422      opinion            active                  36            2475.0   \n",
       "18053      opinion            active                  53            8054.0   \n",
       "17471      opinion            active                  26            3975.0   \n",
       "\n",
       "       text_length  \n",
       "18389          119  \n",
       "15692           75  \n",
       "18422           95  \n",
       "18053          142  \n",
       "17471           77  "
      ]
     },
     "execution_count": 18,
     "metadata": {},
     "output_type": "execute_result"
    }
   ],
   "source": [
    "# Select features\n",
    "X = data_resampled[[\"claim_status\", \"author_ban_status\", \"video_duration_sec\", \"video_view_count\", \"text_length\"]]\n",
    "\n",
    "# Display first few rows of features dataframe\n",
    "X.head()"
   ]
  },
  {
   "cell_type": "markdown",
   "metadata": {
    "id": "gPIBz0-HDEqd"
   },
   "source": [
    "### **Task 3b. Train-test split**"
   ]
  },
  {
   "cell_type": "markdown",
   "metadata": {
    "id": "5tNw9_y9jmY1"
   },
   "source": [
    "Split the data into training and testing sets."
   ]
  },
  {
   "cell_type": "code",
   "execution_count": 19,
   "metadata": {
    "id": "jKgrew0V6o_3"
   },
   "outputs": [],
   "source": [
    "# Split the data into training and testing sets\n",
    "X_train, X_test, y_train, y_test = train_test_split(X, y, test_size=0.2, random_state=42)"
   ]
  },
  {
   "cell_type": "markdown",
   "metadata": {
    "id": "5VlklzoujrAR"
   },
   "source": [
    "Confirm that the dimensions of the training and testing sets are in alignment."
   ]
  },
  {
   "cell_type": "code",
   "execution_count": 154,
   "metadata": {
    "id": "xgbB1NCtfxcc"
   },
   "outputs": [
    {
     "name": "stdout",
     "output_type": "stream",
     "text": [
      "Shape of the X training subset: (28614, 5)\n",
      "Shape of the X test subset: (7154, 5)\n",
      "Shape of the y training subset: (28614,)\n",
      "Shape of the y test subset: (7154,)\n"
     ]
    }
   ],
   "source": [
    "# Get shape of each training and testing set\n",
    "print(f\"Shape of the X training subset: {X_train.shape}\")\n",
    "print(f\"Shape of the X test subset: {X_test.shape}\")\n",
    "print(f\"Shape of the y training subset: {y_train.shape}\")\n",
    "print(f\"Shape of the y test subset: {y_test.shape}\")"
   ]
  },
  {
   "cell_type": "markdown",
   "metadata": {
    "id": "V7PjlXFuDRp_"
   },
   "source": [
    "### **Task 3c. Encode variables**"
   ]
  },
  {
   "cell_type": "markdown",
   "metadata": {
    "id": "rbpnEjop82zL"
   },
   "source": [
    "Check the data types of the features."
   ]
  },
  {
   "cell_type": "code",
   "execution_count": 155,
   "metadata": {
    "id": "TefBRXUu8zWR"
   },
   "outputs": [
    {
     "data": {
      "text/plain": [
       "claim_status           object\n",
       "author_ban_status      object\n",
       "video_duration_sec      int64\n",
       "video_view_count      float64\n",
       "text_length             int64\n",
       "dtype: object"
      ]
     },
     "execution_count": 155,
     "metadata": {},
     "output_type": "execute_result"
    }
   ],
   "source": [
    "# Check data types\n",
    "X_train.dtypes"
   ]
  },
  {
   "cell_type": "code",
   "execution_count": 156,
   "metadata": {
    "id": "gT1YqFZc-uBF"
   },
   "outputs": [
    {
     "data": {
      "text/plain": [
       "array(['opinion', 'claim'], dtype=object)"
      ]
     },
     "execution_count": 156,
     "metadata": {},
     "output_type": "execute_result"
    }
   ],
   "source": [
    "# Get unique values in `claim_status`\n",
    "X_train[\"claim_status\"].unique()"
   ]
  },
  {
   "cell_type": "code",
   "execution_count": 157,
   "metadata": {
    "id": "uSnObsvy-wpz"
   },
   "outputs": [
    {
     "data": {
      "text/plain": [
       "array(['active', 'banned', 'under review'], dtype=object)"
      ]
     },
     "execution_count": 157,
     "metadata": {},
     "output_type": "execute_result"
    }
   ],
   "source": [
    "# Get unique values in `author_ban_status`\n",
    "X_train[\"author_ban_status\"].unique()"
   ]
  },
  {
   "cell_type": "markdown",
   "metadata": {
    "id": "PKSSWs39xYWH"
   },
   "source": [
    "As shown above, the `claim_status` and `author_ban_status` features are each of data type `object` currently. In order to work with the implementations of models through `sklearn`, these categorical features will need to be made numeric. One way to do this is through one-hot encoding.\n",
    "\n",
    "Encode categorical features in the training set using an appropriate method."
   ]
  },
  {
   "cell_type": "code",
   "execution_count": 22,
   "metadata": {
    "id": "mlMTSyaTcBct"
   },
   "outputs": [
    {
     "data": {
      "text/html": [
       "<div>\n",
       "<style scoped>\n",
       "    .dataframe tbody tr th:only-of-type {\n",
       "        vertical-align: middle;\n",
       "    }\n",
       "\n",
       "    .dataframe tbody tr th {\n",
       "        vertical-align: top;\n",
       "    }\n",
       "\n",
       "    .dataframe thead th {\n",
       "        text-align: right;\n",
       "    }\n",
       "</style>\n",
       "<table border=\"1\" class=\"dataframe\">\n",
       "  <thead>\n",
       "    <tr style=\"text-align: right;\">\n",
       "      <th></th>\n",
       "      <th>claim_status</th>\n",
       "      <th>author_ban_status</th>\n",
       "    </tr>\n",
       "  </thead>\n",
       "  <tbody>\n",
       "    <tr>\n",
       "      <th>17057</th>\n",
       "      <td>opinion</td>\n",
       "      <td>active</td>\n",
       "    </tr>\n",
       "    <tr>\n",
       "      <th>1120</th>\n",
       "      <td>claim</td>\n",
       "      <td>active</td>\n",
       "    </tr>\n",
       "    <tr>\n",
       "      <th>7177</th>\n",
       "      <td>claim</td>\n",
       "      <td>active</td>\n",
       "    </tr>\n",
       "    <tr>\n",
       "      <th>15097</th>\n",
       "      <td>opinion</td>\n",
       "      <td>active</td>\n",
       "    </tr>\n",
       "    <tr>\n",
       "      <th>284</th>\n",
       "      <td>claim</td>\n",
       "      <td>active</td>\n",
       "    </tr>\n",
       "  </tbody>\n",
       "</table>\n",
       "</div>"
      ],
      "text/plain": [
       "      claim_status author_ban_status\n",
       "17057      opinion            active\n",
       "1120         claim            active\n",
       "7177         claim            active\n",
       "15097      opinion            active\n",
       "284          claim            active"
      ]
     },
     "execution_count": 22,
     "metadata": {},
     "output_type": "execute_result"
    }
   ],
   "source": [
    "# Select the training features that needs to be encoded\n",
    "need_to_encode = X_train[[\"claim_status\", \"author_ban_status\"]].copy()\n",
    "\n",
    "# Display first few rows\n",
    "need_to_encode.head()"
   ]
  },
  {
   "cell_type": "code",
   "execution_count": 20,
   "metadata": {
    "id": "lSM5lQioAjex"
   },
   "outputs": [],
   "source": [
    "# Set up an encoder for one-hot encoding the categorical features\n",
    "encoder = OneHotEncoder(drop='first', sparse_output=False)"
   ]
  },
  {
   "cell_type": "code",
   "execution_count": 23,
   "metadata": {
    "id": "PH_KGRJApBM_"
   },
   "outputs": [],
   "source": [
    "# Fit and transform the training features using the encoder\n",
    "one_hot_encoded = encoder.fit_transform(need_to_encode)"
   ]
  },
  {
   "cell_type": "code",
   "execution_count": 25,
   "metadata": {
    "id": "j57gJjIFpyO_"
   },
   "outputs": [
    {
     "data": {
      "text/plain": [
       "array(['claim_status_opinion', 'author_ban_status_banned',\n",
       "       'author_ban_status_under review'], dtype=object)"
      ]
     },
     "execution_count": 25,
     "metadata": {},
     "output_type": "execute_result"
    }
   ],
   "source": [
    "# Get feature names from encoder\n",
    "features = encoder.get_feature_names_out()\n",
    "features"
   ]
  },
  {
   "cell_type": "code",
   "execution_count": 168,
   "metadata": {
    "id": "2vSYk7n7phDI"
   },
   "outputs": [
    {
     "name": "stdout",
     "output_type": "stream",
     "text": [
      "[1. 0. 0.]\n"
     ]
    }
   ],
   "source": [
    "# Display first few rows of encoded training features\n",
    "print(one_hot_encoded[0])"
   ]
  },
  {
   "cell_type": "code",
   "execution_count": 26,
   "metadata": {
    "id": "jAn10kA9qcUa"
   },
   "outputs": [
    {
     "data": {
      "text/html": [
       "<div>\n",
       "<style scoped>\n",
       "    .dataframe tbody tr th:only-of-type {\n",
       "        vertical-align: middle;\n",
       "    }\n",
       "\n",
       "    .dataframe tbody tr th {\n",
       "        vertical-align: top;\n",
       "    }\n",
       "\n",
       "    .dataframe thead th {\n",
       "        text-align: right;\n",
       "    }\n",
       "</style>\n",
       "<table border=\"1\" class=\"dataframe\">\n",
       "  <thead>\n",
       "    <tr style=\"text-align: right;\">\n",
       "      <th></th>\n",
       "      <th>claim_status_opinion</th>\n",
       "      <th>author_ban_status_banned</th>\n",
       "      <th>author_ban_status_under review</th>\n",
       "    </tr>\n",
       "  </thead>\n",
       "  <tbody>\n",
       "    <tr>\n",
       "      <th>0</th>\n",
       "      <td>1.0</td>\n",
       "      <td>0.0</td>\n",
       "      <td>0.0</td>\n",
       "    </tr>\n",
       "    <tr>\n",
       "      <th>1</th>\n",
       "      <td>0.0</td>\n",
       "      <td>0.0</td>\n",
       "      <td>0.0</td>\n",
       "    </tr>\n",
       "    <tr>\n",
       "      <th>2</th>\n",
       "      <td>0.0</td>\n",
       "      <td>0.0</td>\n",
       "      <td>0.0</td>\n",
       "    </tr>\n",
       "    <tr>\n",
       "      <th>3</th>\n",
       "      <td>1.0</td>\n",
       "      <td>0.0</td>\n",
       "      <td>0.0</td>\n",
       "    </tr>\n",
       "    <tr>\n",
       "      <th>4</th>\n",
       "      <td>0.0</td>\n",
       "      <td>0.0</td>\n",
       "      <td>0.0</td>\n",
       "    </tr>\n",
       "  </tbody>\n",
       "</table>\n",
       "</div>"
      ],
      "text/plain": [
       "   claim_status_opinion  author_ban_status_banned  \\\n",
       "0                   1.0                       0.0   \n",
       "1                   0.0                       0.0   \n",
       "2                   0.0                       0.0   \n",
       "3                   1.0                       0.0   \n",
       "4                   0.0                       0.0   \n",
       "\n",
       "   author_ban_status_under review  \n",
       "0                             0.0  \n",
       "1                             0.0  \n",
       "2                             0.0  \n",
       "3                             0.0  \n",
       "4                             0.0  "
      ]
     },
     "execution_count": 26,
     "metadata": {},
     "output_type": "execute_result"
    }
   ],
   "source": [
    "# Place encoded training features (which is currently an array) into a dataframe\n",
    "one_hot_encoded_df = pd.DataFrame(one_hot_encoded, columns=features)\n",
    "\n",
    "# Display first few rows\n",
    "one_hot_encoded_df.head()"
   ]
  },
  {
   "cell_type": "code",
   "execution_count": 27,
   "metadata": {
    "id": "7pdBRVwnuwc0"
   },
   "outputs": [
    {
     "data": {
      "text/html": [
       "<div>\n",
       "<style scoped>\n",
       "    .dataframe tbody tr th:only-of-type {\n",
       "        vertical-align: middle;\n",
       "    }\n",
       "\n",
       "    .dataframe tbody tr th {\n",
       "        vertical-align: top;\n",
       "    }\n",
       "\n",
       "    .dataframe thead th {\n",
       "        text-align: right;\n",
       "    }\n",
       "</style>\n",
       "<table border=\"1\" class=\"dataframe\">\n",
       "  <thead>\n",
       "    <tr style=\"text-align: right;\">\n",
       "      <th></th>\n",
       "      <th>video_duration_sec</th>\n",
       "      <th>video_view_count</th>\n",
       "      <th>text_length</th>\n",
       "    </tr>\n",
       "  </thead>\n",
       "  <tbody>\n",
       "    <tr>\n",
       "      <th>0</th>\n",
       "      <td>22</td>\n",
       "      <td>7718.0</td>\n",
       "      <td>47</td>\n",
       "    </tr>\n",
       "    <tr>\n",
       "      <th>1</th>\n",
       "      <td>7</td>\n",
       "      <td>783824.0</td>\n",
       "      <td>102</td>\n",
       "    </tr>\n",
       "    <tr>\n",
       "      <th>2</th>\n",
       "      <td>7</td>\n",
       "      <td>278116.0</td>\n",
       "      <td>70</td>\n",
       "    </tr>\n",
       "    <tr>\n",
       "      <th>3</th>\n",
       "      <td>36</td>\n",
       "      <td>4445.0</td>\n",
       "      <td>118</td>\n",
       "    </tr>\n",
       "    <tr>\n",
       "      <th>4</th>\n",
       "      <td>9</td>\n",
       "      <td>201670.0</td>\n",
       "      <td>67</td>\n",
       "    </tr>\n",
       "    <tr>\n",
       "      <th>...</th>\n",
       "      <td>...</td>\n",
       "      <td>...</td>\n",
       "      <td>...</td>\n",
       "    </tr>\n",
       "    <tr>\n",
       "      <th>28609</th>\n",
       "      <td>25</td>\n",
       "      <td>5324.0</td>\n",
       "      <td>79</td>\n",
       "    </tr>\n",
       "    <tr>\n",
       "      <th>28610</th>\n",
       "      <td>23</td>\n",
       "      <td>4445.0</td>\n",
       "      <td>108</td>\n",
       "    </tr>\n",
       "    <tr>\n",
       "      <th>28611</th>\n",
       "      <td>17</td>\n",
       "      <td>8925.0</td>\n",
       "      <td>90</td>\n",
       "    </tr>\n",
       "    <tr>\n",
       "      <th>28612</th>\n",
       "      <td>50</td>\n",
       "      <td>7093.0</td>\n",
       "      <td>97</td>\n",
       "    </tr>\n",
       "    <tr>\n",
       "      <th>28613</th>\n",
       "      <td>51</td>\n",
       "      <td>230.0</td>\n",
       "      <td>93</td>\n",
       "    </tr>\n",
       "  </tbody>\n",
       "</table>\n",
       "<p>28614 rows × 3 columns</p>\n",
       "</div>"
      ],
      "text/plain": [
       "       video_duration_sec  video_view_count  text_length\n",
       "0                      22            7718.0           47\n",
       "1                       7          783824.0          102\n",
       "2                       7          278116.0           70\n",
       "3                      36            4445.0          118\n",
       "4                       9          201670.0           67\n",
       "...                   ...               ...          ...\n",
       "28609                  25            5324.0           79\n",
       "28610                  23            4445.0          108\n",
       "28611                  17            8925.0           90\n",
       "28612                  50            7093.0           97\n",
       "28613                  51             230.0           93\n",
       "\n",
       "[28614 rows x 3 columns]"
      ]
     },
     "execution_count": 27,
     "metadata": {},
     "output_type": "execute_result"
    }
   ],
   "source": [
    "# Display first few rows of `X_train` with `claim_status` and `author_ban_status` columns dropped\n",
    "# (since these features are being transformed to numeric)\n",
    "X_train.drop([\"claim_status\", \"author_ban_status\"], axis=1).reset_index(drop=True)"
   ]
  },
  {
   "cell_type": "code",
   "execution_count": 28,
   "metadata": {
    "id": "qKG1TK-KEfuB"
   },
   "outputs": [
    {
     "data": {
      "text/html": [
       "<div>\n",
       "<style scoped>\n",
       "    .dataframe tbody tr th:only-of-type {\n",
       "        vertical-align: middle;\n",
       "    }\n",
       "\n",
       "    .dataframe tbody tr th {\n",
       "        vertical-align: top;\n",
       "    }\n",
       "\n",
       "    .dataframe thead th {\n",
       "        text-align: right;\n",
       "    }\n",
       "</style>\n",
       "<table border=\"1\" class=\"dataframe\">\n",
       "  <thead>\n",
       "    <tr style=\"text-align: right;\">\n",
       "      <th></th>\n",
       "      <th>video_duration_sec</th>\n",
       "      <th>video_view_count</th>\n",
       "      <th>text_length</th>\n",
       "      <th>claim_status_opinion</th>\n",
       "      <th>author_ban_status_banned</th>\n",
       "      <th>author_ban_status_under review</th>\n",
       "    </tr>\n",
       "  </thead>\n",
       "  <tbody>\n",
       "    <tr>\n",
       "      <th>0</th>\n",
       "      <td>22</td>\n",
       "      <td>7718.0</td>\n",
       "      <td>47</td>\n",
       "      <td>1.0</td>\n",
       "      <td>0.0</td>\n",
       "      <td>0.0</td>\n",
       "    </tr>\n",
       "    <tr>\n",
       "      <th>1</th>\n",
       "      <td>7</td>\n",
       "      <td>783824.0</td>\n",
       "      <td>102</td>\n",
       "      <td>0.0</td>\n",
       "      <td>0.0</td>\n",
       "      <td>0.0</td>\n",
       "    </tr>\n",
       "    <tr>\n",
       "      <th>2</th>\n",
       "      <td>7</td>\n",
       "      <td>278116.0</td>\n",
       "      <td>70</td>\n",
       "      <td>0.0</td>\n",
       "      <td>0.0</td>\n",
       "      <td>0.0</td>\n",
       "    </tr>\n",
       "    <tr>\n",
       "      <th>3</th>\n",
       "      <td>36</td>\n",
       "      <td>4445.0</td>\n",
       "      <td>118</td>\n",
       "      <td>1.0</td>\n",
       "      <td>0.0</td>\n",
       "      <td>0.0</td>\n",
       "    </tr>\n",
       "    <tr>\n",
       "      <th>4</th>\n",
       "      <td>9</td>\n",
       "      <td>201670.0</td>\n",
       "      <td>67</td>\n",
       "      <td>0.0</td>\n",
       "      <td>0.0</td>\n",
       "      <td>0.0</td>\n",
       "    </tr>\n",
       "  </tbody>\n",
       "</table>\n",
       "</div>"
      ],
      "text/plain": [
       "   video_duration_sec  video_view_count  text_length  claim_status_opinion  \\\n",
       "0                  22            7718.0           47                   1.0   \n",
       "1                   7          783824.0          102                   0.0   \n",
       "2                   7          278116.0           70                   0.0   \n",
       "3                  36            4445.0          118                   1.0   \n",
       "4                   9          201670.0           67                   0.0   \n",
       "\n",
       "   author_ban_status_banned  author_ban_status_under review  \n",
       "0                       0.0                             0.0  \n",
       "1                       0.0                             0.0  \n",
       "2                       0.0                             0.0  \n",
       "3                       0.0                             0.0  \n",
       "4                       0.0                             0.0  "
      ]
     },
     "execution_count": 28,
     "metadata": {},
     "output_type": "execute_result"
    }
   ],
   "source": [
    "# Concatenate `X_train` and `X_train_encoded_df` to form the final dataframe for training data (`X_train_final`)\n",
    "# Note: Using `.reset_index(drop=True)` to reset the index in X_train after dropping `claim_status` and `author_ban_status`,\n",
    "# so that the indices align with those in `X_train_encoded_df` and `count_df`\n",
    "X_train_final = pd.concat([X_train.drop([\"claim_status\", \"author_ban_status\"], axis=1).reset_index(drop=True),\n",
    "                                        one_hot_encoded_df],axis=1)\n",
    "\n",
    "# Display first few rows\n",
    "X_train_final.head()\n"
   ]
  },
  {
   "cell_type": "markdown",
   "metadata": {
    "id": "9ZHZcDR_fY-D"
   },
   "source": [
    "Check the data type of the outcome variable."
   ]
  },
  {
   "cell_type": "code",
   "execution_count": 176,
   "metadata": {
    "id": "QNu4ndvufeP2"
   },
   "outputs": [
    {
     "data": {
      "text/plain": [
       "dtype('O')"
      ]
     },
     "execution_count": 176,
     "metadata": {},
     "output_type": "execute_result"
    }
   ],
   "source": [
    "# Check data type of outcome variable\n",
    "y_train.dtypes\n"
   ]
  },
  {
   "cell_type": "code",
   "execution_count": 177,
   "metadata": {
    "id": "23VVtIeD9fet"
   },
   "outputs": [
    {
     "data": {
      "text/plain": [
       "array(['verified', 'not verified'], dtype=object)"
      ]
     },
     "execution_count": 177,
     "metadata": {},
     "output_type": "execute_result"
    }
   ],
   "source": [
    "# Get unique values of outcome variable\n",
    "y_train.unique()"
   ]
  },
  {
   "cell_type": "markdown",
   "metadata": {
    "id": "YBUb24WDyAiA"
   },
   "source": [
    "A shown above, the outcome variable is of data type `object` currently. One-hot encoding can be used to make this variable numeric.\n",
    "\n",
    "Encode categorical values of the outcome variable the training set using an appropriate method."
   ]
  },
  {
   "cell_type": "code",
   "execution_count": 178,
   "metadata": {
    "id": "xGeLvAbgIBGh"
   },
   "outputs": [],
   "source": [
    "# Set up an encoder for one-hot encoding the categorical outcome variable\n",
    "encoder_2 = OneHotEncoder(drop='first', sparse_output=False)"
   ]
  },
  {
   "cell_type": "code",
   "execution_count": 179,
   "metadata": {},
   "outputs": [
    {
     "data": {
      "text/plain": [
       "28614"
      ]
     },
     "execution_count": 179,
     "metadata": {},
     "output_type": "execute_result"
    }
   ],
   "source": [
    "len(y_train.values.reshape(-1,1))"
   ]
  },
  {
   "cell_type": "code",
   "execution_count": 214,
   "metadata": {
    "id": "qJKcy7sqGeSC"
   },
   "outputs": [
    {
     "data": {
      "text/plain": [
       "0    1.0\n",
       "1    0.0\n",
       "2    0.0\n",
       "3    1.0\n",
       "4    1.0\n",
       "Name: verified_status, dtype: float64"
      ]
     },
     "execution_count": 214,
     "metadata": {},
     "output_type": "execute_result"
    }
   ],
   "source": [
    "# Encode the training outcome variable\n",
    "# Notes:\n",
    "#   - Adjusting the shape of `y_train` before passing into `.fit_transform()`, since it takes in 2D array\n",
    "#   - Using `.ravel()` to flatten the array returned by `.fit_transform()`, so that it can be used later to train the model\n",
    "one_hot_encoded_2 = encoder_2.fit_transform(y_train.values.reshape(-1,1))\n",
    "y_train_encoded = pd.Series(one_hot_encoded_2.ravel(), name=\"verified_status\")\n",
    "\n",
    "# Display the encoded training outcome variable\n",
    "y_train_encoded.head()"
   ]
  },
  {
   "cell_type": "code",
   "execution_count": 146,
   "metadata": {},
   "outputs": [
    {
     "data": {
      "text/plain": [
       "0        0.0\n",
       "1        0.0\n",
       "2        1.0\n",
       "3        1.0\n",
       "4        0.0\n",
       "        ... \n",
       "25032    1.0\n",
       "25033    1.0\n",
       "25034    1.0\n",
       "25035    1.0\n",
       "25036    1.0\n",
       "Length: 25037, dtype: float64"
      ]
     },
     "execution_count": 146,
     "metadata": {},
     "output_type": "execute_result"
    }
   ],
   "source": [
    "var = y_train.astype(\"category\").cat.codes.astype(float).reset_index(drop=True)\n",
    "var"
   ]
  },
  {
   "cell_type": "markdown",
   "metadata": {
    "id": "iDYyjWssbnBG"
   },
   "source": [
    "### **Task 3d. Model building**"
   ]
  },
  {
   "cell_type": "markdown",
   "metadata": {
    "id": "ty8ieBkDBH4g"
   },
   "source": [
    "Construct a model and fit it to the training set."
   ]
  },
  {
   "cell_type": "code",
   "execution_count": 239,
   "metadata": {
    "id": "sNcke2SNvZrN"
   },
   "outputs": [],
   "source": [
    "# Construct a logistic regression model and fit it to the training set\n",
    "model = LogisticRegression().fit(X_train_final, y_train_encoded)"
   ]
  },
  {
   "cell_type": "markdown",
   "metadata": {
    "id": "cp7ojoBldEYy"
   },
   "source": [
    "<img src=\"images/Execute.png\" width=\"100\" height=\"100\" align=left>\n",
    "\n",
    "## **PACE: Execute**\n",
    "\n",
    "Consider the questions in your PACE Strategy Document to reflect on the Execute stage."
   ]
  },
  {
   "cell_type": "markdown",
   "metadata": {
    "id": "F_l3bkxQdJ3a"
   },
   "source": [
    "### **Taks 4a. Results and evaluation**\n",
    "\n",
    "Evaluate your model."
   ]
  },
  {
   "cell_type": "markdown",
   "metadata": {
    "id": "bxnKPq6dIUOB"
   },
   "source": [
    "Encode categorical features in the testing set using an appropriate method."
   ]
  },
  {
   "cell_type": "code",
   "execution_count": 197,
   "metadata": {
    "id": "x-bNI_2_Lp_2"
   },
   "outputs": [
    {
     "data": {
      "text/html": [
       "<div>\n",
       "<style scoped>\n",
       "    .dataframe tbody tr th:only-of-type {\n",
       "        vertical-align: middle;\n",
       "    }\n",
       "\n",
       "    .dataframe tbody tr th {\n",
       "        vertical-align: top;\n",
       "    }\n",
       "\n",
       "    .dataframe thead th {\n",
       "        text-align: right;\n",
       "    }\n",
       "</style>\n",
       "<table border=\"1\" class=\"dataframe\">\n",
       "  <thead>\n",
       "    <tr style=\"text-align: right;\">\n",
       "      <th></th>\n",
       "      <th>claim_status</th>\n",
       "      <th>author_ban_status</th>\n",
       "    </tr>\n",
       "  </thead>\n",
       "  <tbody>\n",
       "    <tr>\n",
       "      <th>9163</th>\n",
       "      <td>claim</td>\n",
       "      <td>active</td>\n",
       "    </tr>\n",
       "    <tr>\n",
       "      <th>16006</th>\n",
       "      <td>opinion</td>\n",
       "      <td>active</td>\n",
       "    </tr>\n",
       "    <tr>\n",
       "      <th>7756</th>\n",
       "      <td>claim</td>\n",
       "      <td>active</td>\n",
       "    </tr>\n",
       "    <tr>\n",
       "      <th>9637</th>\n",
       "      <td>opinion</td>\n",
       "      <td>active</td>\n",
       "    </tr>\n",
       "    <tr>\n",
       "      <th>9928</th>\n",
       "      <td>opinion</td>\n",
       "      <td>active</td>\n",
       "    </tr>\n",
       "  </tbody>\n",
       "</table>\n",
       "</div>"
      ],
      "text/plain": [
       "      claim_status author_ban_status\n",
       "9163         claim            active\n",
       "16006      opinion            active\n",
       "7756         claim            active\n",
       "9637       opinion            active\n",
       "9928       opinion            active"
      ]
     },
     "execution_count": 197,
     "metadata": {},
     "output_type": "execute_result"
    }
   ],
   "source": [
    "# Select the testing features that needs to be encoded\n",
    "need_to_encode_3 = X_test[[\"claim_status\", \"author_ban_status\"]].copy()\n",
    "\n",
    "# Display first few rows\n",
    "need_to_encode_3.head()"
   ]
  },
  {
   "cell_type": "code",
   "execution_count": 198,
   "metadata": {
    "id": "OWa-7XD-Lp_3"
   },
   "outputs": [
    {
     "data": {
      "text/plain": [
       "array([[0., 0., 0.],\n",
       "       [1., 0., 0.],\n",
       "       [0., 0., 0.]])"
      ]
     },
     "execution_count": 198,
     "metadata": {},
     "output_type": "execute_result"
    }
   ],
   "source": [
    "# Transform the testing features using the encoder\n",
    "encoder_3 = OneHotEncoder(drop='first', sparse_output=False)\n",
    "one_hot_encoded_3 = encoder_3.fit_transform(need_to_encode_3)\n",
    "\n",
    "# Display first few rows of encoded testing features\n",
    "one_hot_encoded_3[:3]"
   ]
  },
  {
   "cell_type": "code",
   "execution_count": 199,
   "metadata": {
    "id": "Nmuk2nAELp_3"
   },
   "outputs": [
    {
     "data": {
      "text/html": [
       "<div>\n",
       "<style scoped>\n",
       "    .dataframe tbody tr th:only-of-type {\n",
       "        vertical-align: middle;\n",
       "    }\n",
       "\n",
       "    .dataframe tbody tr th {\n",
       "        vertical-align: top;\n",
       "    }\n",
       "\n",
       "    .dataframe thead th {\n",
       "        text-align: right;\n",
       "    }\n",
       "</style>\n",
       "<table border=\"1\" class=\"dataframe\">\n",
       "  <thead>\n",
       "    <tr style=\"text-align: right;\">\n",
       "      <th></th>\n",
       "      <th>claim_status_opinion</th>\n",
       "      <th>author_ban_status_banned</th>\n",
       "      <th>author_ban_status_under review</th>\n",
       "    </tr>\n",
       "  </thead>\n",
       "  <tbody>\n",
       "    <tr>\n",
       "      <th>0</th>\n",
       "      <td>0.0</td>\n",
       "      <td>0.0</td>\n",
       "      <td>0.0</td>\n",
       "    </tr>\n",
       "    <tr>\n",
       "      <th>1</th>\n",
       "      <td>1.0</td>\n",
       "      <td>0.0</td>\n",
       "      <td>0.0</td>\n",
       "    </tr>\n",
       "    <tr>\n",
       "      <th>2</th>\n",
       "      <td>0.0</td>\n",
       "      <td>0.0</td>\n",
       "      <td>0.0</td>\n",
       "    </tr>\n",
       "    <tr>\n",
       "      <th>3</th>\n",
       "      <td>1.0</td>\n",
       "      <td>0.0</td>\n",
       "      <td>0.0</td>\n",
       "    </tr>\n",
       "    <tr>\n",
       "      <th>4</th>\n",
       "      <td>1.0</td>\n",
       "      <td>0.0</td>\n",
       "      <td>0.0</td>\n",
       "    </tr>\n",
       "  </tbody>\n",
       "</table>\n",
       "</div>"
      ],
      "text/plain": [
       "   claim_status_opinion  author_ban_status_banned  \\\n",
       "0                   0.0                       0.0   \n",
       "1                   1.0                       0.0   \n",
       "2                   0.0                       0.0   \n",
       "3                   1.0                       0.0   \n",
       "4                   1.0                       0.0   \n",
       "\n",
       "   author_ban_status_under review  \n",
       "0                             0.0  \n",
       "1                             0.0  \n",
       "2                             0.0  \n",
       "3                             0.0  \n",
       "4                             0.0  "
      ]
     },
     "execution_count": 199,
     "metadata": {},
     "output_type": "execute_result"
    }
   ],
   "source": [
    "# Place encoded testing features (which is currently an array) into a dataframe\n",
    "one_hot_encoded_3_df = pd.DataFrame(one_hot_encoded_3, columns=encoder_3.get_feature_names_out())\n",
    "\n",
    "# Display first few rows\n",
    "one_hot_encoded_3_df.head()"
   ]
  },
  {
   "cell_type": "code",
   "execution_count": 208,
   "metadata": {
    "id": "uPkMT-n17pV5"
   },
   "outputs": [
    {
     "data": {
      "text/html": [
       "<div>\n",
       "<style scoped>\n",
       "    .dataframe tbody tr th:only-of-type {\n",
       "        vertical-align: middle;\n",
       "    }\n",
       "\n",
       "    .dataframe tbody tr th {\n",
       "        vertical-align: top;\n",
       "    }\n",
       "\n",
       "    .dataframe thead th {\n",
       "        text-align: right;\n",
       "    }\n",
       "</style>\n",
       "<table border=\"1\" class=\"dataframe\">\n",
       "  <thead>\n",
       "    <tr style=\"text-align: right;\">\n",
       "      <th></th>\n",
       "      <th>video_duration_sec</th>\n",
       "      <th>video_view_count</th>\n",
       "      <th>text_length</th>\n",
       "    </tr>\n",
       "  </thead>\n",
       "  <tbody>\n",
       "    <tr>\n",
       "      <th>0</th>\n",
       "      <td>56</td>\n",
       "      <td>194954.0</td>\n",
       "      <td>103</td>\n",
       "    </tr>\n",
       "    <tr>\n",
       "      <th>1</th>\n",
       "      <td>21</td>\n",
       "      <td>2290.0</td>\n",
       "      <td>130</td>\n",
       "    </tr>\n",
       "    <tr>\n",
       "      <th>2</th>\n",
       "      <td>50</td>\n",
       "      <td>939926.0</td>\n",
       "      <td>109</td>\n",
       "    </tr>\n",
       "    <tr>\n",
       "      <th>3</th>\n",
       "      <td>43</td>\n",
       "      <td>4393.0</td>\n",
       "      <td>60</td>\n",
       "    </tr>\n",
       "    <tr>\n",
       "      <th>4</th>\n",
       "      <td>36</td>\n",
       "      <td>397.0</td>\n",
       "      <td>60</td>\n",
       "    </tr>\n",
       "    <tr>\n",
       "      <th>...</th>\n",
       "      <td>...</td>\n",
       "      <td>...</td>\n",
       "      <td>...</td>\n",
       "    </tr>\n",
       "    <tr>\n",
       "      <th>7149</th>\n",
       "      <td>15</td>\n",
       "      <td>151143.0</td>\n",
       "      <td>131</td>\n",
       "    </tr>\n",
       "    <tr>\n",
       "      <th>7150</th>\n",
       "      <td>40</td>\n",
       "      <td>8345.0</td>\n",
       "      <td>77</td>\n",
       "    </tr>\n",
       "    <tr>\n",
       "      <th>7151</th>\n",
       "      <td>53</td>\n",
       "      <td>8874.0</td>\n",
       "      <td>61</td>\n",
       "    </tr>\n",
       "    <tr>\n",
       "      <th>7152</th>\n",
       "      <td>15</td>\n",
       "      <td>174931.0</td>\n",
       "      <td>82</td>\n",
       "    </tr>\n",
       "    <tr>\n",
       "      <th>7153</th>\n",
       "      <td>41</td>\n",
       "      <td>6183.0</td>\n",
       "      <td>168</td>\n",
       "    </tr>\n",
       "  </tbody>\n",
       "</table>\n",
       "<p>7154 rows × 3 columns</p>\n",
       "</div>"
      ],
      "text/plain": [
       "      video_duration_sec  video_view_count  text_length\n",
       "0                     56          194954.0          103\n",
       "1                     21            2290.0          130\n",
       "2                     50          939926.0          109\n",
       "3                     43            4393.0           60\n",
       "4                     36             397.0           60\n",
       "...                  ...               ...          ...\n",
       "7149                  15          151143.0          131\n",
       "7150                  40            8345.0           77\n",
       "7151                  53            8874.0           61\n",
       "7152                  15          174931.0           82\n",
       "7153                  41            6183.0          168\n",
       "\n",
       "[7154 rows x 3 columns]"
      ]
     },
     "execution_count": 208,
     "metadata": {},
     "output_type": "execute_result"
    }
   ],
   "source": [
    "# Display first few rows of `X_test` with `claim_status` and `author_ban_status` columns dropped (since these features are being transformed to numeric)\n",
    "X_test.drop([\"claim_status\", \"author_ban_status\"], axis=1).reset_index(drop=True)"
   ]
  },
  {
   "cell_type": "code",
   "execution_count": 209,
   "metadata": {
    "id": "uLRVCl2yLp_4"
   },
   "outputs": [
    {
     "data": {
      "text/html": [
       "<div>\n",
       "<style scoped>\n",
       "    .dataframe tbody tr th:only-of-type {\n",
       "        vertical-align: middle;\n",
       "    }\n",
       "\n",
       "    .dataframe tbody tr th {\n",
       "        vertical-align: top;\n",
       "    }\n",
       "\n",
       "    .dataframe thead th {\n",
       "        text-align: right;\n",
       "    }\n",
       "</style>\n",
       "<table border=\"1\" class=\"dataframe\">\n",
       "  <thead>\n",
       "    <tr style=\"text-align: right;\">\n",
       "      <th></th>\n",
       "      <th>video_duration_sec</th>\n",
       "      <th>video_view_count</th>\n",
       "      <th>text_length</th>\n",
       "      <th>claim_status_opinion</th>\n",
       "      <th>author_ban_status_banned</th>\n",
       "      <th>author_ban_status_under review</th>\n",
       "    </tr>\n",
       "  </thead>\n",
       "  <tbody>\n",
       "    <tr>\n",
       "      <th>0</th>\n",
       "      <td>56</td>\n",
       "      <td>194954.0</td>\n",
       "      <td>103</td>\n",
       "      <td>0.0</td>\n",
       "      <td>0.0</td>\n",
       "      <td>0.0</td>\n",
       "    </tr>\n",
       "    <tr>\n",
       "      <th>1</th>\n",
       "      <td>21</td>\n",
       "      <td>2290.0</td>\n",
       "      <td>130</td>\n",
       "      <td>1.0</td>\n",
       "      <td>0.0</td>\n",
       "      <td>0.0</td>\n",
       "    </tr>\n",
       "    <tr>\n",
       "      <th>2</th>\n",
       "      <td>50</td>\n",
       "      <td>939926.0</td>\n",
       "      <td>109</td>\n",
       "      <td>0.0</td>\n",
       "      <td>0.0</td>\n",
       "      <td>0.0</td>\n",
       "    </tr>\n",
       "    <tr>\n",
       "      <th>3</th>\n",
       "      <td>43</td>\n",
       "      <td>4393.0</td>\n",
       "      <td>60</td>\n",
       "      <td>1.0</td>\n",
       "      <td>0.0</td>\n",
       "      <td>0.0</td>\n",
       "    </tr>\n",
       "    <tr>\n",
       "      <th>4</th>\n",
       "      <td>36</td>\n",
       "      <td>397.0</td>\n",
       "      <td>60</td>\n",
       "      <td>1.0</td>\n",
       "      <td>0.0</td>\n",
       "      <td>0.0</td>\n",
       "    </tr>\n",
       "  </tbody>\n",
       "</table>\n",
       "</div>"
      ],
      "text/plain": [
       "   video_duration_sec  video_view_count  text_length  claim_status_opinion  \\\n",
       "0                  56          194954.0          103                   0.0   \n",
       "1                  21            2290.0          130                   1.0   \n",
       "2                  50          939926.0          109                   0.0   \n",
       "3                  43            4393.0           60                   1.0   \n",
       "4                  36             397.0           60                   1.0   \n",
       "\n",
       "   author_ban_status_banned  author_ban_status_under review  \n",
       "0                       0.0                             0.0  \n",
       "1                       0.0                             0.0  \n",
       "2                       0.0                             0.0  \n",
       "3                       0.0                             0.0  \n",
       "4                       0.0                             0.0  "
      ]
     },
     "execution_count": 209,
     "metadata": {},
     "output_type": "execute_result"
    }
   ],
   "source": [
    "# Concatenate `X_test` and `X_test_encoded_df` to form the final dataframe for training data (`X_test_final`)\n",
    "# Note: Using `.reset_index(drop=True)` to reset the index in X_test after dropping `claim_status`, and `author_ban_status`,\n",
    "# so that the indices align with those in `X_test_encoded_df` and `test_count_df`\n",
    "X_test_encoded = pd.concat([data, one_hot_encoded_df], axis=1)\n",
    "\n",
    "# Display first few rows\n",
    "X_test_final = pd.concat([X_test.drop([\"claim_status\", \"author_ban_status\"], axis=1).reset_index(drop=True),\n",
    "                           one_hot_encoded_3_df], axis=1)\n",
    "X_test_final.head()"
   ]
  },
  {
   "cell_type": "markdown",
   "metadata": {
    "id": "gM9egturW1eX"
   },
   "source": [
    "Test the logistic regression model. Use the model to make predictions on the encoded testing set."
   ]
  },
  {
   "cell_type": "code",
   "execution_count": 240,
   "metadata": {
    "id": "NZQbthy93bWM"
   },
   "outputs": [],
   "source": [
    "# Use the logistic regression model to get predictions on the encoded testing set\n",
    "y_pred = model.predict(X_test_final)"
   ]
  },
  {
   "cell_type": "markdown",
   "metadata": {
    "id": "HNjDzuqmYU0G"
   },
   "source": [
    "Display the predictions on the encoded testing set."
   ]
  },
  {
   "cell_type": "code",
   "execution_count": 211,
   "metadata": {
    "id": "tyKjLA_gYUYZ"
   },
   "outputs": [
    {
     "data": {
      "text/plain": [
       "array([0., 1., 0., ..., 1., 0., 1.])"
      ]
     },
     "execution_count": 211,
     "metadata": {},
     "output_type": "execute_result"
    }
   ],
   "source": [
    "# Display the predictions on the encoded testing set\n",
    "y_pred"
   ]
  },
  {
   "cell_type": "markdown",
   "metadata": {
    "id": "iXDp4m9dYlN3"
   },
   "source": [
    "Display the true labels of the testing set."
   ]
  },
  {
   "cell_type": "code",
   "execution_count": 212,
   "metadata": {
    "id": "JymZrHVDYdvu"
   },
   "outputs": [
    {
     "data": {
      "text/plain": [
       "9163     not verified\n",
       "16006        verified\n",
       "7756     not verified\n",
       "9637     not verified\n",
       "9928     not verified\n",
       "             ...     \n",
       "8377     not verified\n",
       "13588        verified\n",
       "12646    not verified\n",
       "8453     not verified\n",
       "13869    not verified\n",
       "Name: verified_status, Length: 7154, dtype: object"
      ]
     },
     "execution_count": 212,
     "metadata": {},
     "output_type": "execute_result"
    }
   ],
   "source": [
    "# Display the true labels of the testing set\n",
    "y_test"
   ]
  },
  {
   "cell_type": "markdown",
   "metadata": {
    "id": "WM-HHIInem3Z"
   },
   "source": [
    "Encode the true labels of the testing set so it can be compared to the predictions."
   ]
  },
  {
   "cell_type": "code",
   "execution_count": 216,
   "metadata": {
    "id": "KNnYVZnjfJfz"
   },
   "outputs": [
    {
     "data": {
      "text/plain": [
       "0    0.0\n",
       "1    1.0\n",
       "2    0.0\n",
       "3    0.0\n",
       "4    0.0\n",
       "Name: verified_status, dtype: float64"
      ]
     },
     "execution_count": 216,
     "metadata": {},
     "output_type": "execute_result"
    }
   ],
   "source": [
    "# Encode the testing outcome variable\n",
    "# Notes:\n",
    "#   - Adjusting the shape of `y_test` before passing into `.transform()`, since it takes in 2D array\n",
    "#   - Using `.ravel()` to flatten the array returned by `.transform()`, so that it can be used later to compare with predictions\n",
    "encoder_4 = OneHotEncoder(drop='first', sparse_output=False)\n",
    "one_hot_encoded_4 = encoder_4.fit_transform(y_test.values.reshape(-1,1))\n",
    "y_test_encoded = pd.Series(one_hot_encoded_4.ravel(), name=\"verified_status\")\n",
    "\n",
    "# Display the encoded testing outcome variable\n",
    "y_test_encoded.head()"
   ]
  },
  {
   "cell_type": "markdown",
   "metadata": {
    "id": "IzdbI4A4mmHA"
   },
   "source": [
    "Confirm again that the dimensions of the training and testing sets are in alignment since additional features were added."
   ]
  },
  {
   "cell_type": "code",
   "execution_count": 242,
   "metadata": {
    "id": "WbbI5cSfmmHA"
   },
   "outputs": [
    {
     "name": "stdout",
     "output_type": "stream",
     "text": [
      "Shape of the X training subset: (28614, 6)\n",
      "Shape of the X test subset: (7154, 6)\n",
      "Shape of the y training subset: (28614,)\n",
      "Shape of the y test subset: (7154,)\n"
     ]
    }
   ],
   "source": [
    "# Get shape of each training and testing set\n",
    "print(f\"Shape of the X training subset: {X_train_final.shape}\")\n",
    "print(f\"Shape of the X test subset: {X_test_final.shape}\")\n",
    "print(f\"Shape of the y training subset: {y_train_encoded.shape}\")\n",
    "print(f\"Shape of the y test subset: {y_test_encoded.shape}\")"
   ]
  },
  {
   "cell_type": "markdown",
   "metadata": {
    "id": "IMQltTaQFnwv"
   },
   "source": [
    "### **Task 4b. Visualize model results**"
   ]
  },
  {
   "cell_type": "markdown",
   "metadata": {
    "id": "VVMG0ubSXQvS"
   },
   "source": [
    "Create a confusion matrix to visualize the results of the logistic regression model."
   ]
  },
  {
   "cell_type": "code",
   "execution_count": 243,
   "metadata": {
    "id": "ZPgiHdlyZCTf"
   },
   "outputs": [
    {
     "name": "stdout",
     "output_type": "stream",
     "text": [
      "[[1531 2074]\n",
      " [ 507 3042]]\n"
     ]
    },
    {
     "data": {
      "image/png": "[encoded data removed]",
      "text/plain": [
       "<Figure size 640x480 with 2 Axes>"
      ]
     },
     "metadata": {},
     "output_type": "display_data"
    }
   ],
   "source": [
    "# Compute values for confusion matrix\n",
    "cm = metrics.confusion_matrix(y_test_encoded, y_pred, labels = model.classes_)\n",
    "print(cm)\n",
    "\n",
    "# Create display of confusion matrix\n",
    "disp = metrics.ConfusionMatrixDisplay(confusion_matrix = cm, display_labels = model.classes_)\n",
    "\n",
    "# Plot confusion matrix\n",
    "disp.plot()\n",
    "\n",
    "# Display plot\n",
    "plt.show()"
   ]
  },
  {
   "cell_type": "markdown",
   "metadata": {
    "id": "I6OmnATfbtNd"
   },
   "source": [
    "Create a classification report that includes precision, recall, f1-score, and accuracy metrics to evaluate the performance of the logistic regression model."
   ]
  },
  {
   "cell_type": "code",
   "execution_count": 244,
   "metadata": {
    "id": "AMxCzRa-bnUe"
   },
   "outputs": [
    {
     "name": "stdout",
     "output_type": "stream",
     "text": [
      "Model precision score: 0.5946051602814699\n",
      "Model recall score: 0.8571428571428571\n",
      "Model accuracy score: 0.6392228124126362\n",
      "Model f1-score: 0.7021350259665319\n"
     ]
    }
   ],
   "source": [
    "# Create a classification report\n",
    "print(f\"Model precision score: {metrics.precision_score(y_test_encoded, y_pred)}\")\n",
    "print(f\"Model recall score: {metrics.recall_score(y_test_encoded, y_pred)}\")\n",
    "print(f\"Model accuracy score: {metrics.accuracy_score(y_test_encoded, y_pred)}\")\n",
    "print(f\"Model f1-score: {metrics.f1_score(y_test_encoded, y_pred)}\")"
   ]
  },
  {
   "cell_type": "markdown",
   "metadata": {
    "id": "IFY_y19EKQoO"
   },
   "source": [
    "### **Task 4c. Interpret model coefficients**"
   ]
  },
  {
   "cell_type": "code",
   "execution_count": 232,
   "metadata": {
    "id": "6TmRk8tz4JpG"
   },
   "outputs": [
    {
     "data": {
      "text/html": [
       "<div>\n",
       "<style scoped>\n",
       "    .dataframe tbody tr th:only-of-type {\n",
       "        vertical-align: middle;\n",
       "    }\n",
       "\n",
       "    .dataframe tbody tr th {\n",
       "        vertical-align: top;\n",
       "    }\n",
       "\n",
       "    .dataframe thead th {\n",
       "        text-align: right;\n",
       "    }\n",
       "</style>\n",
       "<table border=\"1\" class=\"dataframe\">\n",
       "  <thead>\n",
       "    <tr style=\"text-align: right;\">\n",
       "      <th></th>\n",
       "      <th>0</th>\n",
       "    </tr>\n",
       "  </thead>\n",
       "  <tbody>\n",
       "    <tr>\n",
       "      <th>video_duration_sec</th>\n",
       "      <td>0.001391</td>\n",
       "    </tr>\n",
       "    <tr>\n",
       "      <th>video_view_count</th>\n",
       "      <td>-0.000002</td>\n",
       "    </tr>\n",
       "    <tr>\n",
       "      <th>text_length</th>\n",
       "      <td>0.003612</td>\n",
       "    </tr>\n",
       "    <tr>\n",
       "      <th>claim_status_opinion</th>\n",
       "      <td>0.000060</td>\n",
       "    </tr>\n",
       "    <tr>\n",
       "      <th>author_ban_status_banned</th>\n",
       "      <td>-0.000002</td>\n",
       "    </tr>\n",
       "    <tr>\n",
       "      <th>author_ban_status_under review</th>\n",
       "      <td>-0.000001</td>\n",
       "    </tr>\n",
       "  </tbody>\n",
       "</table>\n",
       "</div>"
      ],
      "text/plain": [
       "                                       0\n",
       "video_duration_sec              0.001391\n",
       "video_view_count               -0.000002\n",
       "text_length                     0.003612\n",
       "claim_status_opinion            0.000060\n",
       "author_ban_status_banned       -0.000002\n",
       "author_ban_status_under review -0.000001"
      ]
     },
     "execution_count": 232,
     "metadata": {},
     "output_type": "execute_result"
    }
   ],
   "source": [
    "# Get the feature names from the model and the model coefficients (which represent log-odds ratios)\n",
    "# Place into a DataFrame for readability\n",
    "pd.DataFrame(model.coef_, columns=X_test_final.columns).T"
   ]
  },
  {
   "cell_type": "code",
   "execution_count": 247,
   "metadata": {},
   "outputs": [
    {
     "name": "stdout",
     "output_type": "stream",
     "text": [
      "              precision    recall  f1-score   support\n",
      "\n",
      "    verified       0.75      0.42      0.54      3605\n",
      "not verified       0.59      0.86      0.70      3549\n",
      "\n",
      "    accuracy                           0.64      7154\n",
      "   macro avg       0.67      0.64      0.62      7154\n",
      "weighted avg       0.67      0.64      0.62      7154\n",
      "\n"
     ]
    }
   ],
   "source": [
    "target_labels = [\"verified\", \"not verified\"]\n",
    "print(metrics.classification_report(y_test_encoded, y_pred, target_names=target_labels))"
   ]
  },
  {
   "cell_type": "markdown",
   "metadata": {
    "id": "P6AlDDyhdzmG"
   },
   "source": [
    "### **Task 4d. Conclusion**\n",
    "\n",
    "1. What are the key takeaways from this project?\n",
    "\n",
    "2. What results can be presented from this project?"
   ]
  },
  {
   "cell_type": "markdown",
   "metadata": {
    "id": "BzqJ13WAnt4R"
   },
   "source": [
    "    As we can see, the model perfoemance is not on the very high level.  Precision is about 60%, so we cannot predict correctly more than 40% of the data. Although negative class (not verified) we can predicted better (about 86%). Such performance maybe result of the initial uneven distristribution in the dataset.  \n",
    "      \n",
    "    As the final result accuracy of the model is less than 64% and f1-score: 0.70"
   ]
  }
 ],
 "metadata": {
  "colab": {
   "provenance": []
  },
  "kernelspec": {
   "display_name": "Python 3",
   "language": "python",
   "name": "python3"
  },
  "language_info": {
   "codemirror_mode": {
    "name": "ipython",
    "version": 3
   },
   "file_extension": ".py",
   "mimetype": "text/x-python",
   "name": "python",
   "nbconvert_exporter": "python",
   "pygments_lexer": "ipython3",
   "version": "3.11.3"
  }
 },
 "nbformat": 4,
 "nbformat_minor": 1
}
