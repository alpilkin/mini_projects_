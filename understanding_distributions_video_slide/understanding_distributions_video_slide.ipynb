{
 "cells": [
  {
   "attachments": {},
   "cell_type": "markdown",
   "metadata": {},
   "source": [
    "# Understanding Distributions Through Sampling\n",
    "\n",
    "Task to be solve:\n",
    "* Creates a number of subplots.\n",
    "* Creates an animation, pulling between 100 and 1000 samples from each of the random variables (`x1`, `x2`, `x3`, `x4`) for each plot and plotting this.\n",
    "* Creates a widget which allows for parameterization of the distributions behind the sampling animations."
   ]
  },
  {
   "attachments": {},
   "cell_type": "markdown",
   "metadata": {},
   "source": [
    "This is section for creating Video"
   ]
  },
  {
   "attachments": {},
   "cell_type": "markdown",
   "metadata": {},
   "source": [
    "## NOTE: \n",
    "      * This section related only to animation creation.\n",
    "      * In case your intention to use widget with slide - relaunch kernel and go forward to the Slide creation section"
   ]
  },
  {
   "cell_type": "markdown",
   "metadata": {},
   "source": [
    "## This Section dedicated only for animation creation"
   ]
  },
  {
   "cell_type": "code",
   "execution_count": 5,
   "metadata": {},
   "outputs": [],
   "source": [
    "# This allow to display animation, and will prevent widget to present correctly\n",
    "# Do not use it if your intention to see widget with slide\n",
    "%matplotlib widget\n"
   ]
  },
  {
   "cell_type": "code",
   "execution_count": 6,
   "metadata": {},
   "outputs": [],
   "source": [
    "#Import Section\n",
    "import matplotlib.pyplot as plt\n",
    "import matplotlib.gridspec as gridspec\n",
    "import numpy as np\n",
    "import matplotlib.animation as animation"
   ]
  },
  {
   "cell_type": "code",
   "execution_count": 2,
   "metadata": {},
   "outputs": [],
   "source": [
    "# Generating data\n",
    "n = 10000\n",
    "x1 = np.random.normal(loc=0.0, scale=1.0, size=n)\n",
    "x2 = np.random.random(size=n)\n",
    "x3 = np.random.gamma(2, size=n)\n",
    "x4 = np.random.exponential(scale=1, size=n)"
   ]
  },
  {
   "cell_type": "code",
   "execution_count": 3,
   "metadata": {},
   "outputs": [],
   "source": [
    "def animation_func(current_frame):\n",
    "    \n",
    "    gspec = gridspec.GridSpec(2,2, hspace=0.15)\n",
    "    normal_his = plt.subplot(gspec[0,0])\n",
    "    random_his = plt.subplot(gspec[1,0])\n",
    "    gamma_his = plt.subplot(gspec[0,1])\n",
    "    exponential_his = plt.subplot(gspec[1,1])\n",
    "    \n",
    "    # Clear the current axes\n",
    "    normal_his.cla()\n",
    "    random_his.cla()\n",
    "    gamma_his.cla()\n",
    "    exponential_his.cla()\n",
    "\n",
    "    # Set bins\n",
    "    bins = np.arange(-4, 10, 0.5)\n",
    "\n",
    "    # Ploting the data\n",
    "    normal_his.hist(x1[:current_frame], bins= bins, density=True, color=\"#B33F00\")\n",
    "    random_his.hist(x2[:current_frame], bins= bins, density=True, color=\"#006663\")\n",
    "    gamma_his.hist(x3[:current_frame], bins= bins, density=True, color=\"#FF6B1A\")\n",
    "    exponential_his.hist(x4[:current_frame], bins= bins, density=True, color=\"#00B3AD\")\n",
    "\n",
    "    # Set the axes limits\n",
    "    normal_his.axis([-4,9,0,0.4])\n",
    "    random_his.axis([-0.5,1.5,0,1.2])\n",
    "    gamma_his.axis([-4,9,0,0.4])\n",
    "    exponential_his.axis([-4,9,0,0.85])\n",
    "\n",
    "    # Set frames' visibility\n",
    "    normal_his.spines['top'].set_visible(False)\n",
    "    normal_his.spines['right'].set_visible(False)\n",
    "\n",
    "    random_his.spines['top'].set_visible(False)\n",
    "    random_his.spines['right'].set_visible(False)\n",
    "\n",
    "    gamma_his.spines['top'].set_visible(False)\n",
    "    gamma_his.spines['right'].set_visible(False)\n",
    "\n",
    "    exponential_his.spines['top'].set_visible(False)\n",
    "    exponential_his.spines['right'].set_visible(False)\n",
    "\n",
    "    # Set Titles\n",
    "    normal_his.set_title(\"Normal distribution\")\n",
    "    random_his.set_title(\"Random distribution\")\n",
    "    gamma_his.set_title(\"Gamma distribution\")\n",
    "    exponential_his.set_title(\"Exponential distribution\");\n",
    "\n",
    "    # Set annotation\n",
    "    normal_his.annotate(f\"n = {current_frame}\", [6.3,0.35])\n",
    "    random_his.annotate(f\"n = {current_frame}\", [1.1,1])\n",
    "    gamma_his.annotate(f\"n = {current_frame}\", [5,0.35])\n",
    "    exponential_his.annotate(f\"n = {current_frame}\", [5,0.7])"
   ]
  },
  {
   "cell_type": "code",
   "execution_count": null,
   "metadata": {},
   "outputs": [],
   "source": [
    "# Start the animation\n",
    "# Note that generating video will take some time, much more than actual timing in the result video\n",
    "fig=plt.figure(figsize=(10,10))\n",
    "a = animation.FuncAnimation(fig, animation_func, interval=100, frames=range(0,10010, 10), repeat=False);\n",
    "\n",
    "# Show the widget\n",
    "plt.show();"
   ]
  },
  {
   "cell_type": "code",
   "execution_count": null,
   "metadata": {},
   "outputs": [],
   "source": [
    "f = r\"./animation_1.avi\" \n",
    "writervideo = animation.FFMpegWriter(fps=60)\n",
    "a.save(f, writer=writervideo)"
   ]
  },
  {
   "attachments": {},
   "cell_type": "markdown",
   "metadata": {},
   "source": [
    "## This Section for Creating histograms with slide"
   ]
  },
  {
   "cell_type": "code",
   "execution_count": 2,
   "metadata": {},
   "outputs": [],
   "source": [
    "# Import Section\n",
    "import matplotlib.pyplot as plt\n",
    "import matplotlib.gridspec as gridspec\n",
    "import numpy as np\n",
    "import ipywidgets as widgets"
   ]
  },
  {
   "cell_type": "code",
   "execution_count": 3,
   "metadata": {},
   "outputs": [],
   "source": [
    "# Generating data\n",
    "n = 10000\n",
    "x1 = np.random.normal(loc=0.0, scale=1.0, size=n)\n",
    "x2 = np.random.random(size=n)\n",
    "x3 = np.random.gamma(2, size=n)\n",
    "x4 = np.random.exponential(scale=1, size=n)"
   ]
  },
  {
   "cell_type": "code",
   "execution_count": 4,
   "metadata": {},
   "outputs": [],
   "source": [
    "def widget_func(current_frame):\n",
    "    \n",
    "    fig=plt.figure(figsize=(10,10))\n",
    "\n",
    "    gspec = gridspec.GridSpec(2,2, hspace=0.15)\n",
    "    normal_his = plt.subplot(gspec[0,0])\n",
    "    random_his = plt.subplot(gspec[1,0])\n",
    "    gamma_his = plt.subplot(gspec[0,1])\n",
    "    exponential_his = plt.subplot(gspec[1,1])\n",
    "    \n",
    "    # Set bins\n",
    "    bins = np.arange(-4, 10, 0.5)\n",
    "\n",
    "    # Ploting the data\n",
    "    normal_his.hist(x1[:current_frame], bins= bins, density=True, color=\"#B33F00\")\n",
    "    random_his.hist(x2[:current_frame], bins= bins, density=True, color=\"#006663\")\n",
    "    gamma_his.hist(x3[:current_frame], bins= bins, density=True, color=\"#FF6B1A\")\n",
    "    exponential_his.hist(x4[:current_frame], bins= bins, density=True, color=\"#00B3AD\")\n",
    "\n",
    "    # Set the axes limits\n",
    "    normal_his.axis([-4,9,0,0.4])\n",
    "    random_his.axis([-0.5,1.5,0,1.2])\n",
    "    gamma_his.axis([-4,9,0,0.4])\n",
    "    exponential_his.axis([-4,9,0,0.85])\n",
    "\n",
    "    # Set frames' visibility\n",
    "    normal_his.spines['top'].set_visible(False)\n",
    "    normal_his.spines['right'].set_visible(False)\n",
    "\n",
    "    random_his.spines['top'].set_visible(False)\n",
    "    random_his.spines['right'].set_visible(False)\n",
    "\n",
    "    gamma_his.spines['top'].set_visible(False)\n",
    "    gamma_his.spines['right'].set_visible(False)\n",
    "\n",
    "    exponential_his.spines['top'].set_visible(False)\n",
    "    exponential_his.spines['right'].set_visible(False)\n",
    "\n",
    "    # Set Titles\n",
    "    normal_his.set_title(\"Normal distribution\")\n",
    "    random_his.set_title(\"Random distribution\")\n",
    "    gamma_his.set_title(\"Gamma distribution\")\n",
    "    exponential_his.set_title(\"Exponential distribution\");\n",
    "\n",
    "    # Set annotation\n",
    "    normal_his.annotate(f\"n = {current_frame}\", [6.3,0.35])\n",
    "    random_his.annotate(f\"n = {current_frame}\", [1.1,1])\n",
    "    gamma_his.annotate(f\"n = {current_frame}\", [5,0.35])\n",
    "    exponential_his.annotate(f\"n = {current_frame}\", [5,0.7])"
   ]
  },
  {
   "cell_type": "code",
   "execution_count": 5,
   "metadata": {},
   "outputs": [
    {
     "data": {
      "application/vnd.jupyter.widget-view+json": {
       "model_id": "23a95e32a5524027a446a62414ad9883",
       "version_major": 2,
       "version_minor": 0
      },
      "text/plain": [
       "interactive(children=(IntSlider(value=5000, description='current_frame', max=10000, min=100, step=100), Output…"
      ]
     },
     "metadata": {},
     "output_type": "display_data"
    }
   ],
   "source": [
    "widgets.interact(widget_func, current_frame=(100, 10000, 100));"
   ]
  }
 ],
 "metadata": {
  "kernelspec": {
   "display_name": "Python 3",
   "language": "python",
   "name": "python3"
  },
  "language_info": {
   "codemirror_mode": {
    "name": "ipython",
    "version": 3
   },
   "file_extension": ".py",
   "mimetype": "text/x-python",
   "name": "python",
   "nbconvert_exporter": "python",
   "pygments_lexer": "ipython3",
   "version": "3.11.3"
  },
  "orig_nbformat": 4
 },
 "nbformat": 4,
 "nbformat_minor": 2
}
